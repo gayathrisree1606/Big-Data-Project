{
  "cells": [
    {
      "cell_type": "code",
      "execution_count": 1,
      "id": "0299f7b3",
      "metadata": {
        "id": "0299f7b3"
      },
      "outputs": [],
      "source": [
        "import os\n",
        "import warnings\n",
        "warnings.filterwarnings('ignore')\n",
        "from pyspark.sql import SparkSession\n",
        "from pyspark.sql.types import StructField, StructType, StringType, IntegerType, FloatType\n",
        "from pyspark.sql.functions import split, count, when, isnan, col, regexp_replace"
      ]
    },
    {
      "cell_type": "code",
      "execution_count": 2,
      "id": "03794c09",
      "metadata": {
        "colab": {
          "base_uri": "https://localhost:8080/"
        },
        "id": "03794c09",
        "outputId": "fb71b7ef-380f-47e3-a9bb-59c8cd0ae108"
      },
      "outputs": [
        {
          "output_type": "stream",
          "name": "stdout",
          "text": [
            "Spark Version: 3.5.3\n"
          ]
        }
      ],
      "source": [
        "spark = SparkSession.builder.appName('First Session').getOrCreate()\n",
        "\n",
        "print('Spark Version: {}'.format(spark.version))"
      ]
    },
    {
      "cell_type": "code",
      "execution_count": 3,
      "id": "79f7ebf2",
      "metadata": {
        "id": "79f7ebf2"
      },
      "outputs": [],
      "source": [
        "\n",
        "import pyspark as sp"
      ]
    },
    {
      "cell_type": "code",
      "execution_count": 4,
      "id": "b5d96d6c",
      "metadata": {
        "colab": {
          "base_uri": "https://localhost:8080/"
        },
        "id": "b5d96d6c",
        "outputId": "6437ebf4-eb9f-445d-828e-0d6e716b057b"
      },
      "outputs": [
        {
          "output_type": "stream",
          "name": "stdout",
          "text": [
            "<SparkContext master=local[*] appName=First Session>\n",
            "3.5.3\n"
          ]
        }
      ],
      "source": [
        "sc = sp.SparkContext.getOrCreate()\n",
        "print(sc)\n",
        "print(sc.version)"
      ]
    },
    {
      "cell_type": "code",
      "execution_count": 5,
      "id": "aa25c014",
      "metadata": {
        "colab": {
          "base_uri": "https://localhost:8080/"
        },
        "id": "aa25c014",
        "outputId": "66b185b8-bd6c-418c-8a7f-e43e481572f8"
      },
      "outputs": [
        {
          "output_type": "stream",
          "name": "stdout",
          "text": [
            "<pyspark.sql.session.SparkSession object at 0x7b866705a350>\n"
          ]
        }
      ],
      "source": [
        "from pyspark.sql import SparkSession\n",
        "\n",
        "#Create my_spark\n",
        "spark = SparkSession.builder.getOrCreate()\n",
        "\n",
        "#print my_spark\n",
        "print(spark)"
      ]
    },
    {
      "cell_type": "markdown",
      "id": "6b545928",
      "metadata": {
        "id": "6b545928"
      },
      "source": [
        "## Importing the dataset"
      ]
    },
    {
      "cell_type": "code",
      "execution_count": 6,
      "id": "4335b2da",
      "metadata": {
        "id": "4335b2da"
      },
      "outputs": [],
      "source": [
        "auto_mpg= spark.read.csv('/content/auto-mpg.csv', header= True, inferSchema=True)"
      ]
    },
    {
      "cell_type": "code",
      "execution_count": 7,
      "id": "df38f3a1",
      "metadata": {
        "colab": {
          "base_uri": "https://localhost:8080/"
        },
        "id": "df38f3a1",
        "outputId": "4d230ce9-ccc3-4e58-87bd-b5bbe8749098"
      },
      "outputs": [
        {
          "output_type": "stream",
          "name": "stdout",
          "text": [
            "+----+---------+------------+----------+------+------------+----------+------+--------------------+\n",
            "| mpg|cylinders|displacement|horsepower|weight|acceleration|model year|origin|            car name|\n",
            "+----+---------+------------+----------+------+------------+----------+------+--------------------+\n",
            "|18.0|        8|       307.0|       130|  3504|        12.0|        70|     1|chevrolet chevell...|\n",
            "|15.0|        8|       350.0|       165|  3693|        11.5|        70|     1|   buick skylark 320|\n",
            "|18.0|        8|       318.0|       150|  3436|        11.0|        70|     1|  plymouth satellite|\n",
            "|16.0|        8|       304.0|       150|  3433|        12.0|        70|     1|       amc rebel sst|\n",
            "|17.0|        8|       302.0|       140|  3449|        10.5|        70|     1|         ford torino|\n",
            "+----+---------+------------+----------+------+------------+----------+------+--------------------+\n",
            "only showing top 5 rows\n",
            "\n"
          ]
        }
      ],
      "source": [
        "auto_mpg.show(5)"
      ]
    },
    {
      "cell_type": "markdown",
      "id": "9bf7289c",
      "metadata": {
        "id": "9bf7289c"
      },
      "source": [
        "### Data Exploration"
      ]
    },
    {
      "cell_type": "code",
      "execution_count": 8,
      "id": "53728221",
      "metadata": {
        "colab": {
          "base_uri": "https://localhost:8080/"
        },
        "id": "53728221",
        "outputId": "48fdf34a-71a1-402a-c642-581f2278840a"
      },
      "outputs": [
        {
          "output_type": "stream",
          "name": "stdout",
          "text": [
            "+---+---------+------------+----------+------+------------+----------+------+--------+\n",
            "|mpg|cylinders|displacement|horsepower|weight|acceleration|model year|origin|car name|\n",
            "+---+---------+------------+----------+------+------------+----------+------+--------+\n",
            "+---+---------+------------+----------+------+------------+----------+------+--------+\n",
            "\n"
          ]
        }
      ],
      "source": [
        "auto_mpg.filter('horsepower is NULL').show()"
      ]
    },
    {
      "cell_type": "code",
      "execution_count": 9,
      "id": "833f74d8",
      "metadata": {
        "colab": {
          "base_uri": "https://localhost:8080/"
        },
        "id": "833f74d8",
        "outputId": "919caf40-870a-467c-c77b-2ecbca8a2823"
      },
      "outputs": [
        {
          "output_type": "stream",
          "name": "stdout",
          "text": [
            "+---+---------+------------+----------+------+------------+----------+------+--------+\n",
            "|mpg|cylinders|displacement|horsepower|weight|acceleration|model year|origin|car name|\n",
            "+---+---------+------------+----------+------+------------+----------+------+--------+\n",
            "|  0|        0|           0|         0|     0|           0|         0|     0|       0|\n",
            "+---+---------+------------+----------+------+------------+----------+------+--------+\n",
            "\n"
          ]
        }
      ],
      "source": [
        "def check_missing(dataframe):\n",
        "\n",
        "    return dataframe.select([count(when(isnan(c) | col(c).isNull(), c)). \\\n",
        "                             alias(c) for c in dataframe.columns]).show()\n",
        "\n",
        "check_missing(auto_mpg)  #hence no null values"
      ]
    },
    {
      "cell_type": "markdown",
      "id": "c8afc940",
      "metadata": {
        "id": "c8afc940"
      },
      "source": [
        "#### Checking for duplicate values"
      ]
    },
    {
      "cell_type": "code",
      "execution_count": 10,
      "id": "d589caae",
      "metadata": {
        "colab": {
          "base_uri": "https://localhost:8080/"
        },
        "id": "d589caae",
        "outputId": "7f4473d3-aa57-45a8-e4ed-8ea07712a0cd"
      },
      "outputs": [
        {
          "output_type": "stream",
          "name": "stdout",
          "text": [
            "+---+---------+------------+----------+------+------------+----------+------+--------+-----+\n",
            "|mpg|cylinders|displacement|horsepower|weight|acceleration|model year|origin|car name|count|\n",
            "+---+---------+------------+----------+------+------------+----------+------+--------+-----+\n",
            "+---+---------+------------+----------+------+------------+----------+------+--------+-----+\n",
            "\n"
          ]
        }
      ],
      "source": [
        "auto_mpg.groupBy(auto_mpg.columns).count().filter(col('count') >1).show()\n",
        "# hence no duplicate values"
      ]
    },
    {
      "cell_type": "code",
      "execution_count": 11,
      "id": "a30d7eaa",
      "metadata": {
        "colab": {
          "base_uri": "https://localhost:8080/"
        },
        "id": "a30d7eaa",
        "outputId": "19b5185c-21bf-4a0b-ada5-7d47485eb832"
      },
      "outputs": [
        {
          "output_type": "stream",
          "name": "stdout",
          "text": [
            "+-------+------------------+------------------+------------------+------------------+-----------------+------------------+------------------+------------------+--------------------+\n",
            "|summary|               mpg|         cylinders|      displacement|        horsepower|           weight|      acceleration|        model year|            origin|            car name|\n",
            "+-------+------------------+------------------+------------------+------------------+-----------------+------------------+------------------+------------------+--------------------+\n",
            "|  count|               398|               398|               398|               398|              398|               398|               398|               398|                 398|\n",
            "|   mean|23.514572864321615| 5.454773869346734|193.42587939698493|104.46938775510205|2970.424623115578|15.568090452261291| 76.01005025125629|1.5728643216080402|                NULL|\n",
            "| stddev| 7.815984312565783|1.7010042445332123|104.26983817119587| 38.49115993282846|846.8417741973268| 2.757688929812676|3.6976266467325862|0.8020548777266148|                NULL|\n",
            "|    min|               9.0|                 3|              68.0|               100|             1613|               8.0|                70|                 1|amc ambassador br...|\n",
            "|    max|              46.6|                 8|             455.0|                 ?|             5140|              24.8|                82|                 3|    vw rabbit custom|\n",
            "+-------+------------------+------------------+------------------+------------------+-----------------+------------------+------------------+------------------+--------------------+\n",
            "\n"
          ]
        }
      ],
      "source": [
        "auto_mpg.describe().show()"
      ]
    },
    {
      "cell_type": "code",
      "execution_count": 12,
      "id": "95dda461",
      "metadata": {
        "id": "95dda461"
      },
      "outputs": [],
      "source": [
        "auto_mpg.createOrReplaceTempView(\"auto_tables\")\n"
      ]
    },
    {
      "cell_type": "code",
      "execution_count": 13,
      "id": "11600bdc",
      "metadata": {
        "colab": {
          "base_uri": "https://localhost:8080/"
        },
        "id": "11600bdc",
        "outputId": "3e1ad07e-b8af-4a13-eb62-89b28b51b1cf"
      },
      "outputs": [
        {
          "output_type": "stream",
          "name": "stdout",
          "text": [
            "+----+---------+------------+----------+------+------------+----------+------+--------------------+\n",
            "| mpg|cylinders|displacement|horsepower|weight|acceleration|model year|origin|            car name|\n",
            "+----+---------+------------+----------+------+------------+----------+------+--------------------+\n",
            "|18.0|        8|       307.0|       130|  3504|        12.0|        70|     1|chevrolet chevell...|\n",
            "|15.0|        8|       350.0|       165|  3693|        11.5|        70|     1|   buick skylark 320|\n",
            "|18.0|        8|       318.0|       150|  3436|        11.0|        70|     1|  plymouth satellite|\n",
            "|16.0|        8|       304.0|       150|  3433|        12.0|        70|     1|       amc rebel sst|\n",
            "|17.0|        8|       302.0|       140|  3449|        10.5|        70|     1|         ford torino|\n",
            "+----+---------+------------+----------+------+------------+----------+------+--------------------+\n",
            "only showing top 5 rows\n",
            "\n"
          ]
        }
      ],
      "source": [
        "auto_mpg.show(5)"
      ]
    },
    {
      "cell_type": "markdown",
      "id": "1ccdb430",
      "metadata": {
        "id": "1ccdb430"
      },
      "source": [
        "#### average horsepower"
      ]
    },
    {
      "cell_type": "code",
      "execution_count": 14,
      "id": "d698de07",
      "metadata": {
        "id": "d698de07"
      },
      "outputs": [],
      "source": [
        "avg_hp= spark.sql('select avg(horsepower) from auto_tables')"
      ]
    },
    {
      "cell_type": "code",
      "execution_count": 15,
      "id": "04b08808",
      "metadata": {
        "colab": {
          "base_uri": "https://localhost:8080/"
        },
        "id": "04b08808",
        "outputId": "46df0f8f-e263-499f-ce1b-7af9285e08da"
      },
      "outputs": [
        {
          "output_type": "stream",
          "name": "stdout",
          "text": [
            "+------------------+\n",
            "|   avg(horsepower)|\n",
            "+------------------+\n",
            "|104.46938775510205|\n",
            "+------------------+\n",
            "\n"
          ]
        }
      ],
      "source": [
        "avg_hp.show()"
      ]
    },
    {
      "cell_type": "markdown",
      "id": "aceb3cb6",
      "metadata": {
        "id": "aceb3cb6"
      },
      "source": [
        "#### average displacement"
      ]
    },
    {
      "cell_type": "code",
      "execution_count": 16,
      "id": "7ab7b0ef",
      "metadata": {
        "id": "7ab7b0ef"
      },
      "outputs": [],
      "source": [
        "avg_displacement= spark.sql('select avg(displacement) from auto_tables')"
      ]
    },
    {
      "cell_type": "code",
      "execution_count": 17,
      "id": "edc2da87",
      "metadata": {
        "colab": {
          "base_uri": "https://localhost:8080/"
        },
        "id": "edc2da87",
        "outputId": "456d91f8-16fe-4811-b3bf-bcd4cce9f039"
      },
      "outputs": [
        {
          "output_type": "stream",
          "name": "stdout",
          "text": [
            "+------------------+\n",
            "| avg(displacement)|\n",
            "+------------------+\n",
            "|193.42587939698493|\n",
            "+------------------+\n",
            "\n"
          ]
        }
      ],
      "source": [
        "avg_displacement.show()"
      ]
    },
    {
      "cell_type": "markdown",
      "id": "2d19487e",
      "metadata": {
        "id": "2d19487e"
      },
      "source": [
        "#### average weight"
      ]
    },
    {
      "cell_type": "code",
      "execution_count": 18,
      "id": "f50db3d0",
      "metadata": {
        "id": "f50db3d0"
      },
      "outputs": [],
      "source": [
        "avg_weight= spark.sql('select avg(weight) from auto_tables')"
      ]
    },
    {
      "cell_type": "code",
      "execution_count": 19,
      "id": "85affbb0",
      "metadata": {
        "colab": {
          "base_uri": "https://localhost:8080/"
        },
        "id": "85affbb0",
        "outputId": "0bff8986-25f6-42ef-b597-ad8f180c19f8"
      },
      "outputs": [
        {
          "output_type": "stream",
          "name": "stdout",
          "text": [
            "+-----------------+\n",
            "|      avg(weight)|\n",
            "+-----------------+\n",
            "|2970.424623115578|\n",
            "+-----------------+\n",
            "\n"
          ]
        }
      ],
      "source": [
        "avg_weight.show()"
      ]
    },
    {
      "cell_type": "markdown",
      "id": "d99f95c3",
      "metadata": {
        "id": "d99f95c3"
      },
      "source": [
        "#### average weight"
      ]
    },
    {
      "cell_type": "code",
      "execution_count": 20,
      "id": "a54b0d0b",
      "metadata": {
        "id": "a54b0d0b"
      },
      "outputs": [],
      "source": [
        "average_accelaration= spark.sql('select avg(weight) from auto_tables')"
      ]
    },
    {
      "cell_type": "code",
      "execution_count": 21,
      "id": "43b820fc",
      "metadata": {
        "colab": {
          "base_uri": "https://localhost:8080/"
        },
        "id": "43b820fc",
        "outputId": "c8d6618a-7bfc-4604-fcfc-be7f3d2ff212"
      },
      "outputs": [
        {
          "output_type": "stream",
          "name": "stdout",
          "text": [
            "+-----------------+\n",
            "|      avg(weight)|\n",
            "+-----------------+\n",
            "|2970.424623115578|\n",
            "+-----------------+\n",
            "\n"
          ]
        }
      ],
      "source": [
        "average_accelaration.show()"
      ]
    },
    {
      "cell_type": "markdown",
      "id": "59cac214",
      "metadata": {
        "id": "59cac214"
      },
      "source": [
        "#### average mpg"
      ]
    },
    {
      "cell_type": "code",
      "execution_count": 22,
      "id": "f667394c",
      "metadata": {
        "id": "f667394c"
      },
      "outputs": [],
      "source": [
        "average_mpg= spark.sql('select avg(mpg) from auto_tables')"
      ]
    },
    {
      "cell_type": "code",
      "execution_count": 23,
      "id": "3fc89d91",
      "metadata": {
        "colab": {
          "base_uri": "https://localhost:8080/"
        },
        "id": "3fc89d91",
        "outputId": "77c3039f-d7be-4a30-e24f-d486715ccf0f"
      },
      "outputs": [
        {
          "output_type": "stream",
          "name": "stdout",
          "text": [
            "+------------------+\n",
            "|          avg(mpg)|\n",
            "+------------------+\n",
            "|23.514572864321615|\n",
            "+------------------+\n",
            "\n"
          ]
        }
      ],
      "source": [
        "average_mpg.show()"
      ]
    },
    {
      "cell_type": "markdown",
      "id": "0eda25ec",
      "metadata": {
        "id": "0eda25ec"
      },
      "source": [
        "#### average cylinders"
      ]
    },
    {
      "cell_type": "code",
      "execution_count": 24,
      "id": "a9b30466",
      "metadata": {
        "id": "a9b30466"
      },
      "outputs": [],
      "source": [
        "average_cylinders= spark.sql('select avg(cylinders) from auto_tables')"
      ]
    },
    {
      "cell_type": "code",
      "execution_count": 25,
      "id": "1f5255ef",
      "metadata": {
        "colab": {
          "base_uri": "https://localhost:8080/"
        },
        "id": "1f5255ef",
        "outputId": "7e4d60e0-e265-4285-9e2f-7742b9981ec9"
      },
      "outputs": [
        {
          "output_type": "stream",
          "name": "stdout",
          "text": [
            "+-----------------+\n",
            "|   avg(cylinders)|\n",
            "+-----------------+\n",
            "|5.454773869346734|\n",
            "+-----------------+\n",
            "\n"
          ]
        }
      ],
      "source": [
        "average_cylinders.show()"
      ]
    },
    {
      "cell_type": "markdown",
      "id": "04aaf446",
      "metadata": {
        "id": "04aaf446"
      },
      "source": [
        "#### checking for datatypes"
      ]
    },
    {
      "cell_type": "code",
      "execution_count": 26,
      "id": "53c6d222",
      "metadata": {
        "colab": {
          "base_uri": "https://localhost:8080/"
        },
        "id": "53c6d222",
        "outputId": "4eb78a29-5d7a-491f-fa26-470f87bb14b6"
      },
      "outputs": [
        {
          "output_type": "stream",
          "name": "stdout",
          "text": [
            "root\n",
            " |-- mpg: double (nullable = true)\n",
            " |-- cylinders: integer (nullable = true)\n",
            " |-- displacement: double (nullable = true)\n",
            " |-- horsepower: string (nullable = true)\n",
            " |-- weight: integer (nullable = true)\n",
            " |-- acceleration: double (nullable = true)\n",
            " |-- model year: integer (nullable = true)\n",
            " |-- origin: integer (nullable = true)\n",
            " |-- car name: string (nullable = true)\n",
            "\n"
          ]
        }
      ],
      "source": [
        "auto_mpg.printSchema()"
      ]
    },
    {
      "cell_type": "code",
      "execution_count": 27,
      "id": "117d0dab",
      "metadata": {
        "id": "117d0dab"
      },
      "outputs": [],
      "source": [
        "# changing the dataype of housepower to double\n",
        "auto_mpg= auto_mpg.withColumn('horsepower', auto_mpg.horsepower.cast('double'))\n"
      ]
    },
    {
      "cell_type": "code",
      "execution_count": 28,
      "id": "8404983b",
      "metadata": {
        "colab": {
          "base_uri": "https://localhost:8080/"
        },
        "id": "8404983b",
        "outputId": "bdd7516c-00ff-4c8d-b30d-196a39f29f01"
      },
      "outputs": [
        {
          "output_type": "stream",
          "name": "stdout",
          "text": [
            "root\n",
            " |-- mpg: double (nullable = true)\n",
            " |-- cylinders: integer (nullable = true)\n",
            " |-- displacement: double (nullable = true)\n",
            " |-- horsepower: double (nullable = true)\n",
            " |-- weight: integer (nullable = true)\n",
            " |-- acceleration: double (nullable = true)\n",
            " |-- model year: integer (nullable = true)\n",
            " |-- origin: integer (nullable = true)\n",
            " |-- car name: string (nullable = true)\n",
            "\n"
          ]
        }
      ],
      "source": [
        "auto_mpg.printSchema()"
      ]
    },
    {
      "cell_type": "markdown",
      "id": "c4ba2238",
      "metadata": {
        "id": "c4ba2238"
      },
      "source": [
        "#### Setting the partitions to 500"
      ]
    },
    {
      "cell_type": "code",
      "execution_count": 29,
      "id": "e73c1e17",
      "metadata": {
        "colab": {
          "base_uri": "https://localhost:8080/",
          "height": 36
        },
        "id": "e73c1e17",
        "outputId": "36cbbc86-d8a7-416b-d81c-ae57023a05d8"
      },
      "outputs": [
        {
          "output_type": "execute_result",
          "data": {
            "text/plain": [
              "'200'"
            ],
            "application/vnd.google.colaboratory.intrinsic+json": {
              "type": "string"
            }
          },
          "metadata": {},
          "execution_count": 29
        }
      ],
      "source": [
        "spark.conf.get(\"spark.sql.shuffle.partitions\")"
      ]
    },
    {
      "cell_type": "code",
      "execution_count": 30,
      "id": "17c3e5fd",
      "metadata": {
        "id": "17c3e5fd"
      },
      "outputs": [],
      "source": [
        "spark.conf.set(\"spark.sql.shuffle.partitions\", 500)"
      ]
    },
    {
      "cell_type": "markdown",
      "id": "5a34a301",
      "metadata": {
        "id": "5a34a301"
      },
      "source": [
        "#### checking the data distribution by converting to Pandas"
      ]
    },
    {
      "cell_type": "code",
      "execution_count": 31,
      "id": "30b30e6a",
      "metadata": {
        "id": "30b30e6a"
      },
      "outputs": [],
      "source": [
        "df =auto_mpg.toPandas()"
      ]
    },
    {
      "cell_type": "code",
      "execution_count": 32,
      "id": "2bb20671",
      "metadata": {
        "id": "2bb20671"
      },
      "outputs": [],
      "source": [
        "import matplotlib.pyplot as plt"
      ]
    },
    {
      "cell_type": "code",
      "execution_count": 33,
      "id": "9c49b7b0",
      "metadata": {
        "colab": {
          "base_uri": "https://localhost:8080/",
          "height": 423
        },
        "id": "9c49b7b0",
        "outputId": "baa0815d-ba63-48bb-91d7-f61dfd699b9c"
      },
      "outputs": [
        {
          "output_type": "execute_result",
          "data": {
            "text/plain": [
              "      mpg  cylinders  displacement  horsepower  weight  acceleration  \\\n",
              "0    18.0          8         307.0       130.0    3504          12.0   \n",
              "1    15.0          8         350.0       165.0    3693          11.5   \n",
              "2    18.0          8         318.0       150.0    3436          11.0   \n",
              "3    16.0          8         304.0       150.0    3433          12.0   \n",
              "4    17.0          8         302.0       140.0    3449          10.5   \n",
              "..    ...        ...           ...         ...     ...           ...   \n",
              "393  27.0          4         140.0        86.0    2790          15.6   \n",
              "394  44.0          4          97.0        52.0    2130          24.6   \n",
              "395  32.0          4         135.0        84.0    2295          11.6   \n",
              "396  28.0          4         120.0        79.0    2625          18.6   \n",
              "397  31.0          4         119.0        82.0    2720          19.4   \n",
              "\n",
              "     model year  origin                   car name  \n",
              "0            70       1  chevrolet chevelle malibu  \n",
              "1            70       1          buick skylark 320  \n",
              "2            70       1         plymouth satellite  \n",
              "3            70       1              amc rebel sst  \n",
              "4            70       1                ford torino  \n",
              "..          ...     ...                        ...  \n",
              "393          82       1            ford mustang gl  \n",
              "394          82       2                  vw pickup  \n",
              "395          82       1              dodge rampage  \n",
              "396          82       1                ford ranger  \n",
              "397          82       1                 chevy s-10  \n",
              "\n",
              "[398 rows x 9 columns]"
            ],
            "text/html": [
              "\n",
              "  <div id=\"df-6f814c21-56f9-4a80-b414-3657c711c414\" class=\"colab-df-container\">\n",
              "    <div>\n",
              "<style scoped>\n",
              "    .dataframe tbody tr th:only-of-type {\n",
              "        vertical-align: middle;\n",
              "    }\n",
              "\n",
              "    .dataframe tbody tr th {\n",
              "        vertical-align: top;\n",
              "    }\n",
              "\n",
              "    .dataframe thead th {\n",
              "        text-align: right;\n",
              "    }\n",
              "</style>\n",
              "<table border=\"1\" class=\"dataframe\">\n",
              "  <thead>\n",
              "    <tr style=\"text-align: right;\">\n",
              "      <th></th>\n",
              "      <th>mpg</th>\n",
              "      <th>cylinders</th>\n",
              "      <th>displacement</th>\n",
              "      <th>horsepower</th>\n",
              "      <th>weight</th>\n",
              "      <th>acceleration</th>\n",
              "      <th>model year</th>\n",
              "      <th>origin</th>\n",
              "      <th>car name</th>\n",
              "    </tr>\n",
              "  </thead>\n",
              "  <tbody>\n",
              "    <tr>\n",
              "      <th>0</th>\n",
              "      <td>18.0</td>\n",
              "      <td>8</td>\n",
              "      <td>307.0</td>\n",
              "      <td>130.0</td>\n",
              "      <td>3504</td>\n",
              "      <td>12.0</td>\n",
              "      <td>70</td>\n",
              "      <td>1</td>\n",
              "      <td>chevrolet chevelle malibu</td>\n",
              "    </tr>\n",
              "    <tr>\n",
              "      <th>1</th>\n",
              "      <td>15.0</td>\n",
              "      <td>8</td>\n",
              "      <td>350.0</td>\n",
              "      <td>165.0</td>\n",
              "      <td>3693</td>\n",
              "      <td>11.5</td>\n",
              "      <td>70</td>\n",
              "      <td>1</td>\n",
              "      <td>buick skylark 320</td>\n",
              "    </tr>\n",
              "    <tr>\n",
              "      <th>2</th>\n",
              "      <td>18.0</td>\n",
              "      <td>8</td>\n",
              "      <td>318.0</td>\n",
              "      <td>150.0</td>\n",
              "      <td>3436</td>\n",
              "      <td>11.0</td>\n",
              "      <td>70</td>\n",
              "      <td>1</td>\n",
              "      <td>plymouth satellite</td>\n",
              "    </tr>\n",
              "    <tr>\n",
              "      <th>3</th>\n",
              "      <td>16.0</td>\n",
              "      <td>8</td>\n",
              "      <td>304.0</td>\n",
              "      <td>150.0</td>\n",
              "      <td>3433</td>\n",
              "      <td>12.0</td>\n",
              "      <td>70</td>\n",
              "      <td>1</td>\n",
              "      <td>amc rebel sst</td>\n",
              "    </tr>\n",
              "    <tr>\n",
              "      <th>4</th>\n",
              "      <td>17.0</td>\n",
              "      <td>8</td>\n",
              "      <td>302.0</td>\n",
              "      <td>140.0</td>\n",
              "      <td>3449</td>\n",
              "      <td>10.5</td>\n",
              "      <td>70</td>\n",
              "      <td>1</td>\n",
              "      <td>ford torino</td>\n",
              "    </tr>\n",
              "    <tr>\n",
              "      <th>...</th>\n",
              "      <td>...</td>\n",
              "      <td>...</td>\n",
              "      <td>...</td>\n",
              "      <td>...</td>\n",
              "      <td>...</td>\n",
              "      <td>...</td>\n",
              "      <td>...</td>\n",
              "      <td>...</td>\n",
              "      <td>...</td>\n",
              "    </tr>\n",
              "    <tr>\n",
              "      <th>393</th>\n",
              "      <td>27.0</td>\n",
              "      <td>4</td>\n",
              "      <td>140.0</td>\n",
              "      <td>86.0</td>\n",
              "      <td>2790</td>\n",
              "      <td>15.6</td>\n",
              "      <td>82</td>\n",
              "      <td>1</td>\n",
              "      <td>ford mustang gl</td>\n",
              "    </tr>\n",
              "    <tr>\n",
              "      <th>394</th>\n",
              "      <td>44.0</td>\n",
              "      <td>4</td>\n",
              "      <td>97.0</td>\n",
              "      <td>52.0</td>\n",
              "      <td>2130</td>\n",
              "      <td>24.6</td>\n",
              "      <td>82</td>\n",
              "      <td>2</td>\n",
              "      <td>vw pickup</td>\n",
              "    </tr>\n",
              "    <tr>\n",
              "      <th>395</th>\n",
              "      <td>32.0</td>\n",
              "      <td>4</td>\n",
              "      <td>135.0</td>\n",
              "      <td>84.0</td>\n",
              "      <td>2295</td>\n",
              "      <td>11.6</td>\n",
              "      <td>82</td>\n",
              "      <td>1</td>\n",
              "      <td>dodge rampage</td>\n",
              "    </tr>\n",
              "    <tr>\n",
              "      <th>396</th>\n",
              "      <td>28.0</td>\n",
              "      <td>4</td>\n",
              "      <td>120.0</td>\n",
              "      <td>79.0</td>\n",
              "      <td>2625</td>\n",
              "      <td>18.6</td>\n",
              "      <td>82</td>\n",
              "      <td>1</td>\n",
              "      <td>ford ranger</td>\n",
              "    </tr>\n",
              "    <tr>\n",
              "      <th>397</th>\n",
              "      <td>31.0</td>\n",
              "      <td>4</td>\n",
              "      <td>119.0</td>\n",
              "      <td>82.0</td>\n",
              "      <td>2720</td>\n",
              "      <td>19.4</td>\n",
              "      <td>82</td>\n",
              "      <td>1</td>\n",
              "      <td>chevy s-10</td>\n",
              "    </tr>\n",
              "  </tbody>\n",
              "</table>\n",
              "<p>398 rows × 9 columns</p>\n",
              "</div>\n",
              "    <div class=\"colab-df-buttons\">\n",
              "\n",
              "  <div class=\"colab-df-container\">\n",
              "    <button class=\"colab-df-convert\" onclick=\"convertToInteractive('df-6f814c21-56f9-4a80-b414-3657c711c414')\"\n",
              "            title=\"Convert this dataframe to an interactive table.\"\n",
              "            style=\"display:none;\">\n",
              "\n",
              "  <svg xmlns=\"http://www.w3.org/2000/svg\" height=\"24px\" viewBox=\"0 -960 960 960\">\n",
              "    <path d=\"M120-120v-720h720v720H120Zm60-500h600v-160H180v160Zm220 220h160v-160H400v160Zm0 220h160v-160H400v160ZM180-400h160v-160H180v160Zm440 0h160v-160H620v160ZM180-180h160v-160H180v160Zm440 0h160v-160H620v160Z\"/>\n",
              "  </svg>\n",
              "    </button>\n",
              "\n",
              "  <style>\n",
              "    .colab-df-container {\n",
              "      display:flex;\n",
              "      gap: 12px;\n",
              "    }\n",
              "\n",
              "    .colab-df-convert {\n",
              "      background-color: #E8F0FE;\n",
              "      border: none;\n",
              "      border-radius: 50%;\n",
              "      cursor: pointer;\n",
              "      display: none;\n",
              "      fill: #1967D2;\n",
              "      height: 32px;\n",
              "      padding: 0 0 0 0;\n",
              "      width: 32px;\n",
              "    }\n",
              "\n",
              "    .colab-df-convert:hover {\n",
              "      background-color: #E2EBFA;\n",
              "      box-shadow: 0px 1px 2px rgba(60, 64, 67, 0.3), 0px 1px 3px 1px rgba(60, 64, 67, 0.15);\n",
              "      fill: #174EA6;\n",
              "    }\n",
              "\n",
              "    .colab-df-buttons div {\n",
              "      margin-bottom: 4px;\n",
              "    }\n",
              "\n",
              "    [theme=dark] .colab-df-convert {\n",
              "      background-color: #3B4455;\n",
              "      fill: #D2E3FC;\n",
              "    }\n",
              "\n",
              "    [theme=dark] .colab-df-convert:hover {\n",
              "      background-color: #434B5C;\n",
              "      box-shadow: 0px 1px 3px 1px rgba(0, 0, 0, 0.15);\n",
              "      filter: drop-shadow(0px 1px 2px rgba(0, 0, 0, 0.3));\n",
              "      fill: #FFFFFF;\n",
              "    }\n",
              "  </style>\n",
              "\n",
              "    <script>\n",
              "      const buttonEl =\n",
              "        document.querySelector('#df-6f814c21-56f9-4a80-b414-3657c711c414 button.colab-df-convert');\n",
              "      buttonEl.style.display =\n",
              "        google.colab.kernel.accessAllowed ? 'block' : 'none';\n",
              "\n",
              "      async function convertToInteractive(key) {\n",
              "        const element = document.querySelector('#df-6f814c21-56f9-4a80-b414-3657c711c414');\n",
              "        const dataTable =\n",
              "          await google.colab.kernel.invokeFunction('convertToInteractive',\n",
              "                                                    [key], {});\n",
              "        if (!dataTable) return;\n",
              "\n",
              "        const docLinkHtml = 'Like what you see? Visit the ' +\n",
              "          '<a target=\"_blank\" href=https://colab.research.google.com/notebooks/data_table.ipynb>data table notebook</a>'\n",
              "          + ' to learn more about interactive tables.';\n",
              "        element.innerHTML = '';\n",
              "        dataTable['output_type'] = 'display_data';\n",
              "        await google.colab.output.renderOutput(dataTable, element);\n",
              "        const docLink = document.createElement('div');\n",
              "        docLink.innerHTML = docLinkHtml;\n",
              "        element.appendChild(docLink);\n",
              "      }\n",
              "    </script>\n",
              "  </div>\n",
              "\n",
              "\n",
              "<div id=\"df-dd67525e-2148-48b6-8ea2-d6ee7e48ece7\">\n",
              "  <button class=\"colab-df-quickchart\" onclick=\"quickchart('df-dd67525e-2148-48b6-8ea2-d6ee7e48ece7')\"\n",
              "            title=\"Suggest charts\"\n",
              "            style=\"display:none;\">\n",
              "\n",
              "<svg xmlns=\"http://www.w3.org/2000/svg\" height=\"24px\"viewBox=\"0 0 24 24\"\n",
              "     width=\"24px\">\n",
              "    <g>\n",
              "        <path d=\"M19 3H5c-1.1 0-2 .9-2 2v14c0 1.1.9 2 2 2h14c1.1 0 2-.9 2-2V5c0-1.1-.9-2-2-2zM9 17H7v-7h2v7zm4 0h-2V7h2v10zm4 0h-2v-4h2v4z\"/>\n",
              "    </g>\n",
              "</svg>\n",
              "  </button>\n",
              "\n",
              "<style>\n",
              "  .colab-df-quickchart {\n",
              "      --bg-color: #E8F0FE;\n",
              "      --fill-color: #1967D2;\n",
              "      --hover-bg-color: #E2EBFA;\n",
              "      --hover-fill-color: #174EA6;\n",
              "      --disabled-fill-color: #AAA;\n",
              "      --disabled-bg-color: #DDD;\n",
              "  }\n",
              "\n",
              "  [theme=dark] .colab-df-quickchart {\n",
              "      --bg-color: #3B4455;\n",
              "      --fill-color: #D2E3FC;\n",
              "      --hover-bg-color: #434B5C;\n",
              "      --hover-fill-color: #FFFFFF;\n",
              "      --disabled-bg-color: #3B4455;\n",
              "      --disabled-fill-color: #666;\n",
              "  }\n",
              "\n",
              "  .colab-df-quickchart {\n",
              "    background-color: var(--bg-color);\n",
              "    border: none;\n",
              "    border-radius: 50%;\n",
              "    cursor: pointer;\n",
              "    display: none;\n",
              "    fill: var(--fill-color);\n",
              "    height: 32px;\n",
              "    padding: 0;\n",
              "    width: 32px;\n",
              "  }\n",
              "\n",
              "  .colab-df-quickchart:hover {\n",
              "    background-color: var(--hover-bg-color);\n",
              "    box-shadow: 0 1px 2px rgba(60, 64, 67, 0.3), 0 1px 3px 1px rgba(60, 64, 67, 0.15);\n",
              "    fill: var(--button-hover-fill-color);\n",
              "  }\n",
              "\n",
              "  .colab-df-quickchart-complete:disabled,\n",
              "  .colab-df-quickchart-complete:disabled:hover {\n",
              "    background-color: var(--disabled-bg-color);\n",
              "    fill: var(--disabled-fill-color);\n",
              "    box-shadow: none;\n",
              "  }\n",
              "\n",
              "  .colab-df-spinner {\n",
              "    border: 2px solid var(--fill-color);\n",
              "    border-color: transparent;\n",
              "    border-bottom-color: var(--fill-color);\n",
              "    animation:\n",
              "      spin 1s steps(1) infinite;\n",
              "  }\n",
              "\n",
              "  @keyframes spin {\n",
              "    0% {\n",
              "      border-color: transparent;\n",
              "      border-bottom-color: var(--fill-color);\n",
              "      border-left-color: var(--fill-color);\n",
              "    }\n",
              "    20% {\n",
              "      border-color: transparent;\n",
              "      border-left-color: var(--fill-color);\n",
              "      border-top-color: var(--fill-color);\n",
              "    }\n",
              "    30% {\n",
              "      border-color: transparent;\n",
              "      border-left-color: var(--fill-color);\n",
              "      border-top-color: var(--fill-color);\n",
              "      border-right-color: var(--fill-color);\n",
              "    }\n",
              "    40% {\n",
              "      border-color: transparent;\n",
              "      border-right-color: var(--fill-color);\n",
              "      border-top-color: var(--fill-color);\n",
              "    }\n",
              "    60% {\n",
              "      border-color: transparent;\n",
              "      border-right-color: var(--fill-color);\n",
              "    }\n",
              "    80% {\n",
              "      border-color: transparent;\n",
              "      border-right-color: var(--fill-color);\n",
              "      border-bottom-color: var(--fill-color);\n",
              "    }\n",
              "    90% {\n",
              "      border-color: transparent;\n",
              "      border-bottom-color: var(--fill-color);\n",
              "    }\n",
              "  }\n",
              "</style>\n",
              "\n",
              "  <script>\n",
              "    async function quickchart(key) {\n",
              "      const quickchartButtonEl =\n",
              "        document.querySelector('#' + key + ' button');\n",
              "      quickchartButtonEl.disabled = true;  // To prevent multiple clicks.\n",
              "      quickchartButtonEl.classList.add('colab-df-spinner');\n",
              "      try {\n",
              "        const charts = await google.colab.kernel.invokeFunction(\n",
              "            'suggestCharts', [key], {});\n",
              "      } catch (error) {\n",
              "        console.error('Error during call to suggestCharts:', error);\n",
              "      }\n",
              "      quickchartButtonEl.classList.remove('colab-df-spinner');\n",
              "      quickchartButtonEl.classList.add('colab-df-quickchart-complete');\n",
              "    }\n",
              "    (() => {\n",
              "      let quickchartButtonEl =\n",
              "        document.querySelector('#df-dd67525e-2148-48b6-8ea2-d6ee7e48ece7 button');\n",
              "      quickchartButtonEl.style.display =\n",
              "        google.colab.kernel.accessAllowed ? 'block' : 'none';\n",
              "    })();\n",
              "  </script>\n",
              "</div>\n",
              "\n",
              "  <div id=\"id_a1025525-b266-4ead-b938-82240883258f\">\n",
              "    <style>\n",
              "      .colab-df-generate {\n",
              "        background-color: #E8F0FE;\n",
              "        border: none;\n",
              "        border-radius: 50%;\n",
              "        cursor: pointer;\n",
              "        display: none;\n",
              "        fill: #1967D2;\n",
              "        height: 32px;\n",
              "        padding: 0 0 0 0;\n",
              "        width: 32px;\n",
              "      }\n",
              "\n",
              "      .colab-df-generate:hover {\n",
              "        background-color: #E2EBFA;\n",
              "        box-shadow: 0px 1px 2px rgba(60, 64, 67, 0.3), 0px 1px 3px 1px rgba(60, 64, 67, 0.15);\n",
              "        fill: #174EA6;\n",
              "      }\n",
              "\n",
              "      [theme=dark] .colab-df-generate {\n",
              "        background-color: #3B4455;\n",
              "        fill: #D2E3FC;\n",
              "      }\n",
              "\n",
              "      [theme=dark] .colab-df-generate:hover {\n",
              "        background-color: #434B5C;\n",
              "        box-shadow: 0px 1px 3px 1px rgba(0, 0, 0, 0.15);\n",
              "        filter: drop-shadow(0px 1px 2px rgba(0, 0, 0, 0.3));\n",
              "        fill: #FFFFFF;\n",
              "      }\n",
              "    </style>\n",
              "    <button class=\"colab-df-generate\" onclick=\"generateWithVariable('df')\"\n",
              "            title=\"Generate code using this dataframe.\"\n",
              "            style=\"display:none;\">\n",
              "\n",
              "  <svg xmlns=\"http://www.w3.org/2000/svg\" height=\"24px\"viewBox=\"0 0 24 24\"\n",
              "       width=\"24px\">\n",
              "    <path d=\"M7,19H8.4L18.45,9,17,7.55,7,17.6ZM5,21V16.75L18.45,3.32a2,2,0,0,1,2.83,0l1.4,1.43a1.91,1.91,0,0,1,.58,1.4,1.91,1.91,0,0,1-.58,1.4L9.25,21ZM18.45,9,17,7.55Zm-12,3A5.31,5.31,0,0,0,4.9,8.1,5.31,5.31,0,0,0,1,6.5,5.31,5.31,0,0,0,4.9,4.9,5.31,5.31,0,0,0,6.5,1,5.31,5.31,0,0,0,8.1,4.9,5.31,5.31,0,0,0,12,6.5,5.46,5.46,0,0,0,6.5,12Z\"/>\n",
              "  </svg>\n",
              "    </button>\n",
              "    <script>\n",
              "      (() => {\n",
              "      const buttonEl =\n",
              "        document.querySelector('#id_a1025525-b266-4ead-b938-82240883258f button.colab-df-generate');\n",
              "      buttonEl.style.display =\n",
              "        google.colab.kernel.accessAllowed ? 'block' : 'none';\n",
              "\n",
              "      buttonEl.onclick = () => {\n",
              "        google.colab.notebook.generateWithVariable('df');\n",
              "      }\n",
              "      })();\n",
              "    </script>\n",
              "  </div>\n",
              "\n",
              "    </div>\n",
              "  </div>\n"
            ],
            "application/vnd.google.colaboratory.intrinsic+json": {
              "type": "dataframe",
              "variable_name": "df",
              "summary": "{\n  \"name\": \"df\",\n  \"rows\": 398,\n  \"fields\": [\n    {\n      \"column\": \"mpg\",\n      \"properties\": {\n        \"dtype\": \"number\",\n        \"std\": 7.815984312565782,\n        \"min\": 9.0,\n        \"max\": 46.6,\n        \"num_unique_values\": 129,\n        \"samples\": [\n          17.7,\n          30.5,\n          30.0\n        ],\n        \"semantic_type\": \"\",\n        \"description\": \"\"\n      }\n    },\n    {\n      \"column\": \"cylinders\",\n      \"properties\": {\n        \"dtype\": \"int32\",\n        \"num_unique_values\": 5,\n        \"samples\": [\n          4,\n          5,\n          6\n        ],\n        \"semantic_type\": \"\",\n        \"description\": \"\"\n      }\n    },\n    {\n      \"column\": \"displacement\",\n      \"properties\": {\n        \"dtype\": \"number\",\n        \"std\": 104.26983817119581,\n        \"min\": 68.0,\n        \"max\": 455.0,\n        \"num_unique_values\": 82,\n        \"samples\": [\n          122.0,\n          307.0,\n          360.0\n        ],\n        \"semantic_type\": \"\",\n        \"description\": \"\"\n      }\n    },\n    {\n      \"column\": \"horsepower\",\n      \"properties\": {\n        \"dtype\": \"number\",\n        \"std\": 38.49115993282855,\n        \"min\": 46.0,\n        \"max\": 230.0,\n        \"num_unique_values\": 93,\n        \"samples\": [\n          92.0,\n          100.0,\n          52.0\n        ],\n        \"semantic_type\": \"\",\n        \"description\": \"\"\n      }\n    },\n    {\n      \"column\": \"weight\",\n      \"properties\": {\n        \"dtype\": \"int32\",\n        \"num_unique_values\": 351,\n        \"samples\": [\n          3730,\n          1995,\n          2215\n        ],\n        \"semantic_type\": \"\",\n        \"description\": \"\"\n      }\n    },\n    {\n      \"column\": \"acceleration\",\n      \"properties\": {\n        \"dtype\": \"number\",\n        \"std\": 2.7576889298126757,\n        \"min\": 8.0,\n        \"max\": 24.8,\n        \"num_unique_values\": 95,\n        \"samples\": [\n          14.7,\n          18.0,\n          14.3\n        ],\n        \"semantic_type\": \"\",\n        \"description\": \"\"\n      }\n    },\n    {\n      \"column\": \"model year\",\n      \"properties\": {\n        \"dtype\": \"int32\",\n        \"num_unique_values\": 13,\n        \"samples\": [\n          81,\n          79,\n          70\n        ],\n        \"semantic_type\": \"\",\n        \"description\": \"\"\n      }\n    },\n    {\n      \"column\": \"origin\",\n      \"properties\": {\n        \"dtype\": \"int32\",\n        \"num_unique_values\": 3,\n        \"samples\": [\n          1,\n          3,\n          2\n        ],\n        \"semantic_type\": \"\",\n        \"description\": \"\"\n      }\n    },\n    {\n      \"column\": \"car name\",\n      \"properties\": {\n        \"dtype\": \"string\",\n        \"num_unique_values\": 305,\n        \"samples\": [\n          \"mazda rx-4\",\n          \"ford f108\",\n          \"buick century luxus (sw)\"\n        ],\n        \"semantic_type\": \"\",\n        \"description\": \"\"\n      }\n    }\n  ]\n}"
            }
          },
          "metadata": {},
          "execution_count": 33
        }
      ],
      "source": [
        "df"
      ]
    },
    {
      "cell_type": "code",
      "execution_count": 34,
      "id": "bf3cffdf",
      "metadata": {
        "colab": {
          "base_uri": "https://localhost:8080/",
          "height": 447
        },
        "id": "bf3cffdf",
        "outputId": "a7ce6144-ffee-45b4-c5b9-b592985d03d0"
      },
      "outputs": [
        {
          "output_type": "execute_result",
          "data": {
            "text/plain": [
              "<Axes: >"
            ]
          },
          "metadata": {},
          "execution_count": 34
        },
        {
          "output_type": "display_data",
          "data": {
            "text/plain": [
              "<Figure size 640x480 with 1 Axes>"
            ],
            "image/png": "[encoded data removed]"
          },
          "metadata": {}
        }
      ],
      "source": [
        "df.mpg.hist()"
      ]
    },
    {
      "cell_type": "code",
      "execution_count": 35,
      "id": "6ef87fb8",
      "metadata": {
        "id": "6ef87fb8"
      },
      "outputs": [],
      "source": [
        "import seaborn as sns"
      ]
    },
    {
      "cell_type": "code",
      "execution_count": 36,
      "id": "3b21003f",
      "metadata": {
        "colab": {
          "base_uri": "https://localhost:8080/",
          "height": 447
        },
        "id": "3b21003f",
        "outputId": "a05d9dfe-aa6c-4f8f-ab8f-a0c99a97a7c4"
      },
      "outputs": [
        {
          "output_type": "execute_result",
          "data": {
            "text/plain": [
              "<Axes: ylabel='count'>"
            ]
          },
          "metadata": {},
          "execution_count": 36
        },
        {
          "output_type": "display_data",
          "data": {
            "text/plain": [
              "<Figure size 640x480 with 1 Axes>"
            ],
            "image/png": "[encoded data removed]"
          },
          "metadata": {}
        }
      ],
      "source": [
        "sns.countplot(df.cylinders)"
      ]
    },
    {
      "cell_type": "code",
      "execution_count": 37,
      "id": "abf5242a",
      "metadata": {
        "colab": {
          "base_uri": "https://localhost:8080/",
          "height": 447
        },
        "id": "abf5242a",
        "outputId": "6fe16445-b65b-4737-c68a-2ea625213189"
      },
      "outputs": [
        {
          "output_type": "execute_result",
          "data": {
            "text/plain": [
              "<Axes: >"
            ]
          },
          "metadata": {},
          "execution_count": 37
        },
        {
          "output_type": "display_data",
          "data": {
            "text/plain": [
              "<Figure size 640x480 with 1 Axes>"
            ],
            "image/png": "[encoded data removed]"
          },
          "metadata": {}
        }
      ],
      "source": [
        "df.displacement.hist()"
      ]
    },
    {
      "cell_type": "code",
      "execution_count": 38,
      "id": "fec3ac2a",
      "metadata": {
        "colab": {
          "base_uri": "https://localhost:8080/",
          "height": 447
        },
        "id": "fec3ac2a",
        "outputId": "2d23c203-edee-4e9b-d06a-6fb59418ae6f"
      },
      "outputs": [
        {
          "output_type": "execute_result",
          "data": {
            "text/plain": [
              "<Axes: >"
            ]
          },
          "metadata": {},
          "execution_count": 38
        },
        {
          "output_type": "display_data",
          "data": {
            "text/plain": [
              "<Figure size 640x480 with 1 Axes>"
            ],
            "image/png": "[encoded data removed]"
          },
          "metadata": {}
        }
      ],
      "source": [
        "df.horsepower.hist()"
      ]
    },
    {
      "cell_type": "code",
      "execution_count": 39,
      "id": "95679a87",
      "metadata": {
        "colab": {
          "base_uri": "https://localhost:8080/",
          "height": 447
        },
        "id": "95679a87",
        "outputId": "e128153b-298d-44ff-c282-2c72536e4487"
      },
      "outputs": [
        {
          "output_type": "execute_result",
          "data": {
            "text/plain": [
              "<Axes: >"
            ]
          },
          "metadata": {},
          "execution_count": 39
        },
        {
          "output_type": "display_data",
          "data": {
            "text/plain": [
              "<Figure size 640x480 with 1 Axes>"
            ],
            "image/png": "[encoded data removed]"
          },
          "metadata": {}
        }
      ],
      "source": [
        "df.acceleration.hist()"
      ]
    },
    {
      "cell_type": "code",
      "execution_count": 40,
      "id": "7c8c7a18",
      "metadata": {
        "colab": {
          "base_uri": "https://localhost:8080/",
          "height": 447
        },
        "id": "7c8c7a18",
        "outputId": "58c78040-bb58-4c57-a3e6-c8bcf54057af"
      },
      "outputs": [
        {
          "output_type": "execute_result",
          "data": {
            "text/plain": [
              "<Axes: >"
            ]
          },
          "metadata": {},
          "execution_count": 40
        },
        {
          "output_type": "display_data",
          "data": {
            "text/plain": [
              "<Figure size 640x480 with 1 Axes>"
            ],
            "image/png": "[encoded data removed]"
          },
          "metadata": {}
        }
      ],
      "source": [
        "df.weight.hist()"
      ]
    },
    {
      "cell_type": "code",
      "execution_count": 41,
      "id": "0c13a77e",
      "metadata": {
        "colab": {
          "base_uri": "https://localhost:8080/",
          "height": 621
        },
        "id": "0c13a77e",
        "outputId": "c746fd03-c983-4e7a-d82c-9917c2cd695c"
      },
      "outputs": [
        {
          "output_type": "execute_result",
          "data": {
            "text/plain": [
              "<function matplotlib.pyplot.show(close=None, block=None)>"
            ],
            "text/html": [
              "<div style=\"max-width:800px; border: 1px solid var(--colab-border-color);\"><style>\n",
              "      pre.function-repr-contents {\n",
              "        overflow-x: auto;\n",
              "        padding: 8px 12px;\n",
              "        max-height: 500px;\n",
              "      }\n",
              "\n",
              "      pre.function-repr-contents.function-repr-contents-collapsed {\n",
              "        cursor: pointer;\n",
              "        max-height: 100px;\n",
              "      }\n",
              "    </style>\n",
              "    <pre style=\"white-space: initial; background:\n",
              "         var(--colab-secondary-surface-color); padding: 8px 12px;\n",
              "         border-bottom: 1px solid var(--colab-border-color);\"><b>matplotlib.pyplot.show</b><br/>def show(*args, **kwargs)</pre><pre class=\"function-repr-contents function-repr-contents-collapsed\" style=\"\"><a class=\"filepath\" style=\"display:none\" href=\"#\">/usr/local/lib/python3.10/dist-packages/matplotlib/pyplot.py</a>Display all open figures.\n",
              "\n",
              "Parameters\n",
              "----------\n",
              "block : bool, optional\n",
              "    Whether to wait for all figures to be closed before returning.\n",
              "\n",
              "    If `True` block and run the GUI main loop until all figure windows\n",
              "    are closed.\n",
              "\n",
              "    If `False` ensure that all figure windows are displayed and return\n",
              "    immediately.  In this case, you are responsible for ensuring\n",
              "    that the event loop is running to have responsive figures.\n",
              "\n",
              "    Defaults to True in non-interactive mode and to False in interactive\n",
              "    mode (see `.pyplot.isinteractive`).\n",
              "\n",
              "See Also\n",
              "--------\n",
              "ion : Enable interactive mode, which shows / updates the figure after\n",
              "      every plotting command, so that calling ``show()`` is not necessary.\n",
              "ioff : Disable interactive mode.\n",
              "savefig : Save the figure to an image file instead of showing it on screen.\n",
              "\n",
              "Notes\n",
              "-----\n",
              "**Saving figures to file and showing a window at the same time**\n",
              "\n",
              "If you want an image file as well as a user interface window, use\n",
              "`.pyplot.savefig` before `.pyplot.show`. At the end of (a blocking)\n",
              "``show()`` the figure is closed and thus unregistered from pyplot. Calling\n",
              "`.pyplot.savefig` afterwards would save a new and thus empty figure. This\n",
              "limitation of command order does not apply if the show is non-blocking or\n",
              "if you keep a reference to the figure and use `.Figure.savefig`.\n",
              "\n",
              "**Auto-show in jupyter notebooks**\n",
              "\n",
              "The jupyter backends (activated via ``%matplotlib inline``,\n",
              "``%matplotlib notebook``, or ``%matplotlib widget``), call ``show()`` at\n",
              "the end of every cell by default. Thus, you usually don&#x27;t have to call it\n",
              "explicitly there.</pre>\n",
              "      <script>\n",
              "      if (google.colab.kernel.accessAllowed && google.colab.files && google.colab.files.view) {\n",
              "        for (const element of document.querySelectorAll('.filepath')) {\n",
              "          element.style.display = 'block'\n",
              "          element.onclick = (event) => {\n",
              "            event.preventDefault();\n",
              "            event.stopPropagation();\n",
              "            google.colab.files.view(element.textContent, 482);\n",
              "          };\n",
              "        }\n",
              "      }\n",
              "      for (const element of document.querySelectorAll('.function-repr-contents')) {\n",
              "        element.onclick = (event) => {\n",
              "          event.preventDefault();\n",
              "          event.stopPropagation();\n",
              "          element.classList.toggle('function-repr-contents-collapsed');\n",
              "        };\n",
              "      }\n",
              "      </script>\n",
              "      </div>"
            ]
          },
          "metadata": {},
          "execution_count": 41
        },
        {
          "output_type": "display_data",
          "data": {
            "text/plain": [
              "<Figure size 640x480 with 1 Axes>"
            ],
            "image/png": "[encoded data removed]"
          },
          "metadata": {}
        }
      ],
      "source": [
        "sns.barplot(data= df, x= 'origin', y= 'weight', ci=None, alpha= 0.6)\n",
        "import numpy as np\n",
        "plt.axhline(np.median(df['weight']), color= 'purple', alpha= 0.8)\n",
        "plt.show"
      ]
    },
    {
      "cell_type": "markdown",
      "id": "74e2e445",
      "metadata": {
        "id": "74e2e445"
      },
      "source": [
        "#### Renaming the columns in spark dataframe"
      ]
    },
    {
      "cell_type": "code",
      "execution_count": 42,
      "id": "8fc9f508",
      "metadata": {
        "colab": {
          "base_uri": "https://localhost:8080/"
        },
        "id": "8fc9f508",
        "outputId": "f5edae0b-8bb6-4fbe-d98d-d1cb53dd2e5d"
      },
      "outputs": [
        {
          "output_type": "stream",
          "name": "stdout",
          "text": [
            "+----+---------+------------+----------+------+------------+----------+------+--------------------+\n",
            "| mpg|cylinders|displacement|horsepower|weight|acceleration|model year|origin|            car name|\n",
            "+----+---------+------------+----------+------+------------+----------+------+--------------------+\n",
            "|18.0|        8|       307.0|     130.0|  3504|        12.0|        70|     1|chevrolet chevell...|\n",
            "|15.0|        8|       350.0|     165.0|  3693|        11.5|        70|     1|   buick skylark 320|\n",
            "|18.0|        8|       318.0|     150.0|  3436|        11.0|        70|     1|  plymouth satellite|\n",
            "|16.0|        8|       304.0|     150.0|  3433|        12.0|        70|     1|       amc rebel sst|\n",
            "|17.0|        8|       302.0|     140.0|  3449|        10.5|        70|     1|         ford torino|\n",
            "+----+---------+------------+----------+------+------------+----------+------+--------------------+\n",
            "only showing top 5 rows\n",
            "\n"
          ]
        }
      ],
      "source": [
        "auto_mpg.show(5)"
      ]
    },
    {
      "cell_type": "code",
      "execution_count": 43,
      "id": "e04e41e8",
      "metadata": {
        "id": "e04e41e8"
      },
      "outputs": [],
      "source": [
        "auto_mpg= auto_mpg.withColumnRenamed('car name','car_name').withColumnRenamed('model year', 'model_year')"
      ]
    },
    {
      "cell_type": "code",
      "execution_count": 44,
      "id": "b829808d",
      "metadata": {
        "colab": {
          "base_uri": "https://localhost:8080/"
        },
        "id": "b829808d",
        "outputId": "b386203c-b345-41ca-9392-95f24faa23bb"
      },
      "outputs": [
        {
          "output_type": "stream",
          "name": "stdout",
          "text": [
            "+----+---------+------------+----------+------+------------+----------+------+--------------------+\n",
            "| mpg|cylinders|displacement|horsepower|weight|acceleration|model_year|origin|            car_name|\n",
            "+----+---------+------------+----------+------+------------+----------+------+--------------------+\n",
            "|18.0|        8|       307.0|     130.0|  3504|        12.0|        70|     1|chevrolet chevell...|\n",
            "|15.0|        8|       350.0|     165.0|  3693|        11.5|        70|     1|   buick skylark 320|\n",
            "|18.0|        8|       318.0|     150.0|  3436|        11.0|        70|     1|  plymouth satellite|\n",
            "|16.0|        8|       304.0|     150.0|  3433|        12.0|        70|     1|       amc rebel sst|\n",
            "|17.0|        8|       302.0|     140.0|  3449|        10.5|        70|     1|         ford torino|\n",
            "+----+---------+------------+----------+------+------------+----------+------+--------------------+\n",
            "only showing top 5 rows\n",
            "\n"
          ]
        }
      ],
      "source": [
        "auto_mpg.show(5)"
      ]
    },
    {
      "cell_type": "markdown",
      "id": "ede25c7a",
      "metadata": {
        "id": "ede25c7a"
      },
      "source": [
        "### Basic spark operations"
      ]
    },
    {
      "cell_type": "code",
      "execution_count": 45,
      "id": "562ca617",
      "metadata": {
        "id": "562ca617"
      },
      "outputs": [],
      "source": [
        "from pyspark.sql.functions import min,max,avg,count,sum, col"
      ]
    },
    {
      "cell_type": "markdown",
      "id": "c97aa7c0",
      "metadata": {
        "id": "c97aa7c0"
      },
      "source": [
        "#### Number of cars wrt to Model Year"
      ]
    },
    {
      "cell_type": "code",
      "execution_count": 46,
      "id": "87eb2cb4",
      "metadata": {
        "colab": {
          "base_uri": "https://localhost:8080/"
        },
        "id": "87eb2cb4",
        "outputId": "0fc077a0-92ff-423d-fe05-419dc7707044"
      },
      "outputs": [
        {
          "output_type": "stream",
          "name": "stdout",
          "text": [
            "+----------+-----+\n",
            "|model_year|count|\n",
            "+----------+-----+\n",
            "|        73|   40|\n",
            "|        78|   36|\n",
            "|        76|   34|\n",
            "|        82|   31|\n",
            "|        75|   30|\n",
            "|        81|   29|\n",
            "|        80|   29|\n",
            "|        79|   29|\n",
            "|        70|   29|\n",
            "|        72|   28|\n",
            "+----------+-----+\n",
            "only showing top 10 rows\n",
            "\n"
          ]
        }
      ],
      "source": [
        "auto_mpg.groupBy('model_year').count().sort('count' , ascending=False).show(10)"
      ]
    },
    {
      "cell_type": "code",
      "execution_count": 47,
      "id": "22122a90",
      "metadata": {
        "colab": {
          "base_uri": "https://localhost:8080/"
        },
        "id": "22122a90",
        "outputId": "6b5eafba-ddd6-4f7e-861c-4b3eb655e1dd"
      },
      "outputs": [
        {
          "output_type": "stream",
          "name": "stdout",
          "text": [
            "+------------------+\n",
            "|        avg(count)|\n",
            "+------------------+\n",
            "|30.615384615384617|\n",
            "+------------------+\n",
            "\n"
          ]
        }
      ],
      "source": [
        "auto_mpg.groupBy('model_year').count().select(avg('count')).show()"
      ]
    },
    {
      "cell_type": "code",
      "execution_count": 48,
      "id": "97ed5a61",
      "metadata": {
        "colab": {
          "base_uri": "https://localhost:8080/"
        },
        "id": "97ed5a61",
        "outputId": "6f7937ae-9b80-45b6-b4f6-54722f5a8d7b"
      },
      "outputs": [
        {
          "output_type": "stream",
          "name": "stdout",
          "text": [
            "+----------+\n",
            "|min(count)|\n",
            "+----------+\n",
            "|        27|\n",
            "+----------+\n",
            "\n"
          ]
        }
      ],
      "source": [
        "auto_mpg.groupBy('model_year').count().select(min('count')).show()"
      ]
    },
    {
      "cell_type": "markdown",
      "id": "1f1a8237",
      "metadata": {
        "id": "1f1a8237"
      },
      "source": [
        "#### Car with min HP"
      ]
    },
    {
      "cell_type": "code",
      "execution_count": 49,
      "id": "8288db6d",
      "metadata": {
        "colab": {
          "base_uri": "https://localhost:8080/"
        },
        "id": "8288db6d",
        "outputId": "ad86651b-89cf-45ad-dc2d-ec1d028b793e"
      },
      "outputs": [
        {
          "output_type": "stream",
          "name": "stdout",
          "text": [
            "+---------------+\n",
            "|min(horsepower)|\n",
            "+---------------+\n",
            "|           46.0|\n",
            "+---------------+\n",
            "\n"
          ]
        }
      ],
      "source": [
        "minval= auto_mpg.select(min(col('horsepower'))).show()"
      ]
    },
    {
      "cell_type": "code",
      "execution_count": 50,
      "id": "4e97da0f",
      "metadata": {
        "colab": {
          "base_uri": "https://localhost:8080/"
        },
        "id": "4e97da0f",
        "outputId": "a61b13bc-d282-4250-f257-60e35fcea6f8"
      },
      "outputs": [
        {
          "output_type": "stream",
          "name": "stdout",
          "text": [
            "+--------------------+\n",
            "|            car_name|\n",
            "+--------------------+\n",
            "|volkswagen 1131 d...|\n",
            "|volkswagen super ...|\n",
            "+--------------------+\n",
            "\n"
          ]
        }
      ],
      "source": [
        "auto_mpg.filter(col('horsepower')== 46.0).select('car_name').show()"
      ]
    },
    {
      "cell_type": "markdown",
      "id": "407c76e3",
      "metadata": {
        "id": "407c76e3"
      },
      "source": [
        "#### Car with max HP"
      ]
    },
    {
      "cell_type": "code",
      "execution_count": 51,
      "id": "527c7aab",
      "metadata": {
        "colab": {
          "base_uri": "https://localhost:8080/"
        },
        "id": "527c7aab",
        "outputId": "d3905a40-77bc-4a39-ba85-bcf4d8e5f838"
      },
      "outputs": [
        {
          "output_type": "stream",
          "name": "stdout",
          "text": [
            "+---------------+\n",
            "|max(horsepower)|\n",
            "+---------------+\n",
            "|          230.0|\n",
            "+---------------+\n",
            "\n"
          ]
        }
      ],
      "source": [
        "maxval= auto_mpg.select(max(col('horsepower'))).show()"
      ]
    },
    {
      "cell_type": "code",
      "execution_count": 52,
      "id": "b6256261",
      "metadata": {
        "colab": {
          "base_uri": "https://localhost:8080/"
        },
        "id": "b6256261",
        "outputId": "8e3720db-fc6e-43c1-b71f-c19795c4bcaa"
      },
      "outputs": [
        {
          "output_type": "stream",
          "name": "stdout",
          "text": [
            "+------------------+\n",
            "|          car_name|\n",
            "+------------------+\n",
            "|pontiac grand prix|\n",
            "+------------------+\n",
            "\n"
          ]
        }
      ],
      "source": [
        "auto_mpg.filter(col('horsepower')== 230.0).select('car_name').show()"
      ]
    },
    {
      "cell_type": "markdown",
      "id": "775b323f",
      "metadata": {
        "id": "775b323f"
      },
      "source": [
        "#### Number of cars with HP > avg(HP)"
      ]
    },
    {
      "cell_type": "code",
      "execution_count": 53,
      "id": "899e4170",
      "metadata": {
        "colab": {
          "base_uri": "https://localhost:8080/"
        },
        "id": "899e4170",
        "outputId": "1bc9ec7d-25d9-4075-d04f-cc16adf85fa6"
      },
      "outputs": [
        {
          "output_type": "stream",
          "name": "stdout",
          "text": [
            "+------------------+\n",
            "|   avg(horsepower)|\n",
            "+------------------+\n",
            "|104.46938775510205|\n",
            "+------------------+\n",
            "\n"
          ]
        }
      ],
      "source": [
        "avgval= auto_mpg.select(avg(col('horsepower'))).show()"
      ]
    },
    {
      "cell_type": "code",
      "execution_count": 54,
      "id": "fdfcd283",
      "metadata": {
        "colab": {
          "base_uri": "https://localhost:8080/"
        },
        "id": "fdfcd283",
        "outputId": "70da631a-01e0-4a20-f39a-44b8ff65cbf9"
      },
      "outputs": [
        {
          "output_type": "execute_result",
          "data": {
            "text/plain": [
              "148"
            ]
          },
          "metadata": {},
          "execution_count": 54
        }
      ],
      "source": [
        "auto_mpg.filter(col('horsepower')> 104.46938775510205).select('car_name').count()"
      ]
    },
    {
      "cell_type": "markdown",
      "id": "ac414fff",
      "metadata": {
        "id": "ac414fff"
      },
      "source": [
        "#### Using SQL in Pyspark"
      ]
    },
    {
      "cell_type": "code",
      "execution_count": 55,
      "id": "40ed41aa",
      "metadata": {
        "colab": {
          "base_uri": "https://localhost:8080/"
        },
        "id": "40ed41aa",
        "outputId": "d7cb3ead-5337-48b1-e8e9-06c23936ea46"
      },
      "outputs": [
        {
          "output_type": "stream",
          "name": "stdout",
          "text": [
            "+----+---------+------------+----------+------+------------+----------+------+--------------------+\n",
            "| mpg|cylinders|displacement|horsepower|weight|acceleration|model_year|origin|            car_name|\n",
            "+----+---------+------------+----------+------+------------+----------+------+--------------------+\n",
            "|18.0|        8|       307.0|     130.0|  3504|        12.0|        70|     1|chevrolet chevell...|\n",
            "|15.0|        8|       350.0|     165.0|  3693|        11.5|        70|     1|   buick skylark 320|\n",
            "|18.0|        8|       318.0|     150.0|  3436|        11.0|        70|     1|  plymouth satellite|\n",
            "|16.0|        8|       304.0|     150.0|  3433|        12.0|        70|     1|       amc rebel sst|\n",
            "|17.0|        8|       302.0|     140.0|  3449|        10.5|        70|     1|         ford torino|\n",
            "+----+---------+------------+----------+------+------------+----------+------+--------------------+\n",
            "only showing top 5 rows\n",
            "\n"
          ]
        }
      ],
      "source": [
        "auto_mpg.show(5)"
      ]
    },
    {
      "source": [
        "# Instead of:\n",
        "# spark.sql('select car_name, model_year from auto_tables where horsepower> 104.46938775510205 and weight> 2970.424623115578').show()\n",
        "\n",
        "# Use:\n",
        "spark.sql('select `car name`, `model year` from auto_tables where horsepower> 104.46938775510205 and weight> 2970.424623115578').show()\n",
        "#or\n",
        "# Recreate the temporary view after renaming the columns:\n",
        "auto_mpg.createOrReplaceTempView(\"auto_tables\")\n",
        "spark.sql('select car_name, model_year from auto_tables where horsepower> 104.46938775510205 and weight> 2970.424623115578').show()"
      ],
      "cell_type": "code",
      "metadata": {
        "colab": {
          "base_uri": "https://localhost:8080/"
        },
        "id": "SihpLrmI37hw",
        "outputId": "a9bb3c7f-daf0-4638-ea5b-1c6fce34e1df"
      },
      "id": "SihpLrmI37hw",
      "execution_count": 63,
      "outputs": [
        {
          "output_type": "stream",
          "name": "stdout",
          "text": [
            "+--------------------+----------+\n",
            "|            car name|model year|\n",
            "+--------------------+----------+\n",
            "|chevrolet chevell...|        70|\n",
            "|   buick skylark 320|        70|\n",
            "|  plymouth satellite|        70|\n",
            "|       amc rebel sst|        70|\n",
            "|         ford torino|        70|\n",
            "|    ford galaxie 500|        70|\n",
            "|    chevrolet impala|        70|\n",
            "|   plymouth fury iii|        70|\n",
            "|    pontiac catalina|        70|\n",
            "|  amc ambassador dpl|        70|\n",
            "| dodge challenger se|        70|\n",
            "|  plymouth 'cuda 340|        70|\n",
            "|chevrolet monte c...|        70|\n",
            "|buick estate wago...|        70|\n",
            "|           ford f250|        70|\n",
            "|           chevy c20|        70|\n",
            "|          dodge d200|        70|\n",
            "|            hi 1200d|        70|\n",
            "|plymouth satellit...|        71|\n",
            "|    chevrolet impala|        71|\n",
            "+--------------------+----------+\n",
            "only showing top 20 rows\n",
            "\n",
            "+--------------------+----------+\n",
            "|            car_name|model_year|\n",
            "+--------------------+----------+\n",
            "|chevrolet chevell...|        70|\n",
            "|   buick skylark 320|        70|\n",
            "|  plymouth satellite|        70|\n",
            "|       amc rebel sst|        70|\n",
            "|         ford torino|        70|\n",
            "|    ford galaxie 500|        70|\n",
            "|    chevrolet impala|        70|\n",
            "|   plymouth fury iii|        70|\n",
            "|    pontiac catalina|        70|\n",
            "|  amc ambassador dpl|        70|\n",
            "| dodge challenger se|        70|\n",
            "|  plymouth 'cuda 340|        70|\n",
            "|chevrolet monte c...|        70|\n",
            "|buick estate wago...|        70|\n",
            "|           ford f250|        70|\n",
            "|           chevy c20|        70|\n",
            "|          dodge d200|        70|\n",
            "|            hi 1200d|        70|\n",
            "|plymouth satellit...|        71|\n",
            "|    chevrolet impala|        71|\n",
            "+--------------------+----------+\n",
            "only showing top 20 rows\n",
            "\n"
          ]
        }
      ]
    },
    {
      "cell_type": "markdown",
      "id": "479e00c8",
      "metadata": {
        "id": "479e00c8"
      },
      "source": [
        "#### Car with HP > 80 and weight >2k"
      ]
    },
    {
      "cell_type": "code",
      "execution_count": 65,
      "id": "3c256218",
      "metadata": {
        "colab": {
          "base_uri": "https://localhost:8080/"
        },
        "id": "3c256218",
        "outputId": "8be2ef20-211f-4d30-fac8-c5e877be043e"
      },
      "outputs": [
        {
          "output_type": "stream",
          "name": "stdout",
          "text": [
            "+--------------------+----------+\n",
            "|            car_name|model_year|\n",
            "+--------------------+----------+\n",
            "|chevrolet chevell...|        70|\n",
            "|   buick skylark 320|        70|\n",
            "|  plymouth satellite|        70|\n",
            "|       amc rebel sst|        70|\n",
            "|         ford torino|        70|\n",
            "|    ford galaxie 500|        70|\n",
            "|    chevrolet impala|        70|\n",
            "|   plymouth fury iii|        70|\n",
            "|    pontiac catalina|        70|\n",
            "|  amc ambassador dpl|        70|\n",
            "| dodge challenger se|        70|\n",
            "|  plymouth 'cuda 340|        70|\n",
            "|chevrolet monte c...|        70|\n",
            "|buick estate wago...|        70|\n",
            "|toyota corona mar...|        70|\n",
            "|     plymouth duster|        70|\n",
            "|          amc hornet|        70|\n",
            "|       ford maverick|        70|\n",
            "|        datsun pl510|        70|\n",
            "|         peugeot 504|        70|\n",
            "+--------------------+----------+\n",
            "only showing top 20 rows\n",
            "\n"
          ]
        }
      ],
      "source": [
        "spark.sql('select car_name, model_year from auto_tables where horsepower> 80 and weight> 2000').show()"
      ]
    },
    {
      "cell_type": "markdown",
      "id": "d391a979",
      "metadata": {
        "id": "d391a979"
      },
      "source": [
        "#### Most common Model Year in all Cars"
      ]
    },
    {
      "cell_type": "code",
      "execution_count": 66,
      "id": "f2cde06a",
      "metadata": {
        "colab": {
          "base_uri": "https://localhost:8080/"
        },
        "id": "f2cde06a",
        "outputId": "70a35fb4-94bf-4157-acff-8ffe3ff00ae9"
      },
      "outputs": [
        {
          "output_type": "stream",
          "name": "stdout",
          "text": [
            "+----------+--------+\n",
            "|model_year|count(1)|\n",
            "+----------+--------+\n",
            "|        73|      40|\n",
            "|        78|      36|\n",
            "|        76|      34|\n",
            "|        82|      31|\n",
            "|        75|      30|\n",
            "|        81|      29|\n",
            "|        80|      29|\n",
            "|        79|      29|\n",
            "|        70|      29|\n",
            "|        72|      28|\n",
            "|        71|      28|\n",
            "|        77|      28|\n",
            "|        74|      27|\n",
            "+----------+--------+\n",
            "\n"
          ]
        }
      ],
      "source": [
        "\n",
        "spark.sql('select model_year, count(*) from auto_tables group by 1 order by 2 desc').show()"
      ]
    },
    {
      "cell_type": "markdown",
      "id": "87bc5e74",
      "metadata": {
        "id": "87bc5e74"
      },
      "source": [
        "#### Most commong Model and cars"
      ]
    },
    {
      "cell_type": "code",
      "execution_count": 67,
      "id": "7e74d714",
      "metadata": {
        "colab": {
          "base_uri": "https://localhost:8080/"
        },
        "id": "7e74d714",
        "outputId": "81aceda6-0da5-4ca1-a8b4-7f859fb3a9fd"
      },
      "outputs": [
        {
          "output_type": "stream",
          "name": "stdout",
          "text": [
            "+--------------------+----------+--------+\n",
            "|            car_name|model_year|count(1)|\n",
            "+--------------------+----------+--------+\n",
            "|          ford pinto|        75|       2|\n",
            "|    plymouth reliant|        81|       2|\n",
            "|        ford granada|        77|       1|\n",
            "|        datsun pl510|        70|       1|\n",
            "|  honda civic (auto)|        82|       1|\n",
            "|         amc gremlin|        70|       1|\n",
            "|     mazda rx2 coupe|        72|       1|\n",
            "|    chevrolet malibu|        73|       1|\n",
            "| plymouth grand fury|        75|       1|\n",
            "| ford pinto runabout|        72|       1|\n",
            "|       ford maverick|        73|       1|\n",
            "|         fiat 124 tc|        74|       1|\n",
            "|chevrolet caprice...|        77|       1|\n",
            "|oldsmobile cutlas...|        78|       1|\n",
            "|     ford granada gl|        81|       1|\n",
            "|       toyota corona|        74|       1|\n",
            "|    cadillac seville|        76|       1|\n",
            "| toyota corolla 1200|        71|       1|\n",
            "|chrysler newport ...|        72|       1|\n",
            "|   volkswagen dasher|        75|       1|\n",
            "+--------------------+----------+--------+\n",
            "only showing top 20 rows\n",
            "\n"
          ]
        }
      ],
      "source": [
        "spark.sql('select car_name,model_year, count(*) from auto_tables group by 1,2 order by 3 desc').show()"
      ]
    },
    {
      "cell_type": "markdown",
      "id": "bf72e942",
      "metadata": {
        "id": "bf72e942"
      },
      "source": [
        "#### Avg HP wrt Model and cars"
      ]
    },
    {
      "cell_type": "code",
      "execution_count": 68,
      "id": "1622bca8",
      "metadata": {
        "colab": {
          "base_uri": "https://localhost:8080/"
        },
        "id": "1622bca8",
        "outputId": "0a040d87-7798-4069-bc25-3ffa64bfd35f"
      },
      "outputs": [
        {
          "output_type": "stream",
          "name": "stdout",
          "text": [
            "+--------------------+----------+---------------+\n",
            "|            car_name|model_year|avg(horsepower)|\n",
            "+--------------------+----------+---------------+\n",
            "|  pontiac grand prix|        73|          230.0|\n",
            "|buick estate wago...|        70|          225.0|\n",
            "|buick electra 225...|        73|          225.0|\n",
            "|    pontiac catalina|        70|          225.0|\n",
            "|    chevrolet impala|        70|          220.0|\n",
            "|   plymouth fury iii|        70|          215.0|\n",
            "|chrysler new york...|        73|          215.0|\n",
            "|           ford f250|        70|          215.0|\n",
            "|          dodge d200|        70|          210.0|\n",
            "|     mercury marquis|        72|          208.0|\n",
            "|           chevy c20|        70|          200.0|\n",
            "|    ford galaxie 500|        70|          198.0|\n",
            "|mercury marquis b...|        73|          198.0|\n",
            "|            hi 1200d|        70|          193.0|\n",
            "|  amc ambassador dpl|        70|          190.0|\n",
            "|chrysler newport ...|        72|          190.0|\n",
            "|    chrysler cordoba|        77|          190.0|\n",
            "|oldsmobile vista ...|        73|          180.0|\n",
            "|   dodge monaco (sw)|        71|          180.0|\n",
            "|    cadillac seville|        76|          180.0|\n",
            "+--------------------+----------+---------------+\n",
            "only showing top 20 rows\n",
            "\n"
          ]
        }
      ],
      "source": [
        "spark.sql('select car_name,model_year, avg(horsepower) from auto_tables group by 1,2 order by 3 desc').show()"
      ]
    },
    {
      "cell_type": "markdown",
      "id": "9bd5449c",
      "metadata": {
        "id": "9bd5449c"
      },
      "source": [
        "#### cars with orgin= 2"
      ]
    },
    {
      "cell_type": "code",
      "execution_count": 69,
      "id": "30aa1d4c",
      "metadata": {
        "colab": {
          "base_uri": "https://localhost:8080/"
        },
        "id": "30aa1d4c",
        "outputId": "32cfbdc6-581f-4f24-e259-ead314d6d4bd"
      },
      "outputs": [
        {
          "output_type": "stream",
          "name": "stdout",
          "text": [
            "+----+---------+------------+----------+------+------------+----------+------+--------------------+\n",
            "| mpg|cylinders|displacement|horsepower|weight|acceleration|model_year|origin|            car_name|\n",
            "+----+---------+------------+----------+------+------------+----------+------+--------------------+\n",
            "|26.0|        4|        97.0|      46.0|  1835|        20.5|        70|     2|volkswagen 1131 d...|\n",
            "|25.0|        4|       110.0|      87.0|  2672|        17.5|        70|     2|         peugeot 504|\n",
            "|24.0|        4|       107.0|      90.0|  2430|        14.5|        70|     2|         audi 100 ls|\n",
            "|25.0|        4|       104.0|      95.0|  2375|        17.5|        70|     2|            saab 99e|\n",
            "|26.0|        4|       121.0|     113.0|  2234|        12.5|        70|     2|            bmw 2002|\n",
            "|28.0|        4|       116.0|      90.0|  2123|        14.0|        71|     2|           opel 1900|\n",
            "|30.0|        4|        79.0|      70.0|  2074|        19.5|        71|     2|         peugeot 304|\n",
            "|30.0|        4|        88.0|      76.0|  2065|        14.5|        71|     2|           fiat 124b|\n",
            "|27.0|        4|        97.0|      60.0|  1834|        19.0|        71|     2|volkswagen model 111|\n",
            "|23.0|        4|        97.0|      54.0|  2254|        23.5|        72|     2|   volkswagen type 3|\n",
            "+----+---------+------------+----------+------+------------+----------+------+--------------------+\n",
            "only showing top 10 rows\n",
            "\n"
          ]
        }
      ],
      "source": [
        "auto_mpg.filter(col('origin')==2).show(10)"
      ]
    },
    {
      "cell_type": "markdown",
      "id": "d36e53d5",
      "metadata": {
        "id": "d36e53d5"
      },
      "source": [
        "#### cars with orgin= 3"
      ]
    },
    {
      "cell_type": "code",
      "execution_count": 70,
      "id": "da11f7ae",
      "metadata": {
        "colab": {
          "base_uri": "https://localhost:8080/"
        },
        "id": "da11f7ae",
        "outputId": "3b108556-4528-48ca-87b8-633e6e3e6a5d"
      },
      "outputs": [
        {
          "output_type": "stream",
          "name": "stdout",
          "text": [
            "+----+---------+------------+----------+------+------------+----------+------+--------------------+\n",
            "| mpg|cylinders|displacement|horsepower|weight|acceleration|model_year|origin|            car_name|\n",
            "+----+---------+------------+----------+------+------------+----------+------+--------------------+\n",
            "|24.0|        4|       113.0|      95.0|  2372|        15.0|        70|     3|toyota corona mar...|\n",
            "|27.0|        4|        97.0|      88.0|  2130|        14.5|        70|     3|        datsun pl510|\n",
            "|27.0|        4|        97.0|      88.0|  2130|        14.5|        71|     3|        datsun pl510|\n",
            "|25.0|        4|       113.0|      95.0|  2228|        14.0|        71|     3|       toyota corona|\n",
            "|31.0|        4|        71.0|      65.0|  1773|        19.0|        71|     3| toyota corolla 1200|\n",
            "|35.0|        4|        72.0|      69.0|  1613|        18.0|        71|     3|         datsun 1200|\n",
            "|24.0|        4|       113.0|      95.0|  2278|        15.5|        72|     3|toyota corona har...|\n",
            "|19.0|        3|        70.0|      97.0|  2330|        13.5|        72|     3|     mazda rx2 coupe|\n",
            "|28.0|        4|        97.0|      92.0|  2288|        17.0|        72|     3|     datsun 510 (sw)|\n",
            "|23.0|        4|       120.0|      97.0|  2506|        14.5|        72|     3|toyouta corona ma...|\n",
            "+----+---------+------------+----------+------+------------+----------+------+--------------------+\n",
            "only showing top 10 rows\n",
            "\n"
          ]
        }
      ],
      "source": [
        "auto_mpg.filter(col('origin')==3).show(10)"
      ]
    },
    {
      "cell_type": "markdown",
      "id": "7fdd2b40",
      "metadata": {
        "id": "7fdd2b40"
      },
      "source": [
        "#### Number of distinct origin"
      ]
    },
    {
      "cell_type": "code",
      "execution_count": 71,
      "id": "5abaebd1",
      "metadata": {
        "colab": {
          "base_uri": "https://localhost:8080/"
        },
        "id": "5abaebd1",
        "outputId": "81b3de67-5295-416d-a0a3-8ec98eff9c96"
      },
      "outputs": [
        {
          "output_type": "stream",
          "name": "stdout",
          "text": [
            "+------+-----+\n",
            "|origin|count|\n",
            "+------+-----+\n",
            "|     1|  249|\n",
            "|     3|   79|\n",
            "|     2|   70|\n",
            "+------+-----+\n",
            "\n"
          ]
        }
      ],
      "source": [
        "auto_mpg.groupBy('origin').count().show()"
      ]
    },
    {
      "cell_type": "markdown",
      "id": "e2662ad6",
      "metadata": {
        "id": "e2662ad6"
      },
      "source": [
        "#### Avg HP, Weight and displacement wrt origin, model_year, car_name"
      ]
    },
    {
      "cell_type": "code",
      "execution_count": 72,
      "id": "0017f689",
      "metadata": {
        "colab": {
          "base_uri": "https://localhost:8080/"
        },
        "id": "0017f689",
        "outputId": "ec7f55b7-2a5a-4a7b-9a53-2958a9bc046a"
      },
      "outputs": [
        {
          "output_type": "stream",
          "name": "stdout",
          "text": [
            "+------+----------+--------------------+---------------+-----------+-----------------+\n",
            "|origin|model_year|            car_name|avg(horsepower)|avg(weight)|avg(displacement)|\n",
            "+------+----------+--------------------+---------------+-----------+-----------------+\n",
            "|     1|        70|       amc rebel sst|          150.0|     3433.0|            304.0|\n",
            "|     1|        75|       plymouth fury|           95.0|     3785.0|            225.0|\n",
            "|     2|        75|          audi 100ls|           95.0|     2694.0|            115.0|\n",
            "|     3|        78|       toyota corona|           95.0|     2560.0|            134.0|\n",
            "|     2|        80|renault lecar deluxe|           NULL|     1835.0|             85.0|\n",
            "|     2|        74|   volkswagen dasher|           67.0|     1963.0|             79.0|\n",
            "|     3|        76|      toyota mark ii|          108.0|     2930.0|            156.0|\n",
            "|     3|        78|      datsun b210 gx|           70.0|     2070.0|             85.0|\n",
            "|     1|        73|  pontiac grand prix|          230.0|     4278.0|            400.0|\n",
            "|     1|        76|            capri ii|           92.0|     2572.0|            140.0|\n",
            "|     1|        73|plymouth custom s...|          170.0|     4654.0|            360.0|\n",
            "|     3|        72|toyota corona har...|           95.0|     2278.0|            113.0|\n",
            "|     1|        76|          ford pinto|           72.0|     2565.0|            140.0|\n",
            "|     3|        82|        honda accord|           75.0|     2205.0|            107.0|\n",
            "|     3|        77|          mazda rx-4|          110.0|     2720.0|             80.0|\n",
            "|     1|        76|          dodge colt|           79.0|     2255.0|             98.0|\n",
            "|     1|        81|  plymouth horizon 4|           63.0|     2215.0|            105.0|\n",
            "|     3|        82|         honda civic|           67.0|     1965.0|             91.0|\n",
            "|     1|        71|          ford pinto|           NULL|     2046.0|             98.0|\n",
            "|     1|        73|mercury marquis b...|          198.0|     4952.0|            429.0|\n",
            "+------+----------+--------------------+---------------+-----------+-----------------+\n",
            "only showing top 20 rows\n",
            "\n"
          ]
        }
      ],
      "source": [
        "auto_mpg.groupBy(['origin','model_year','car_name']).avg('horsepower', 'weight','displacement').show()"
      ]
    },
    {
      "cell_type": "code",
      "execution_count": 73,
      "id": "68cfe426",
      "metadata": {
        "colab": {
          "base_uri": "https://localhost:8080/",
          "height": 366
        },
        "id": "68cfe426",
        "outputId": "bbcc1b6c-0fa6-4c64-de90-5ba83fe0a6fc"
      },
      "outputs": [
        {
          "output_type": "execute_result",
          "data": {
            "text/plain": [
              "mpg             0\n",
              "cylinders       0\n",
              "displacement    0\n",
              "horsepower      6\n",
              "weight          0\n",
              "acceleration    0\n",
              "model year      0\n",
              "origin          0\n",
              "car name        0\n",
              "dtype: int64"
            ],
            "text/html": [
              "<div>\n",
              "<style scoped>\n",
              "    .dataframe tbody tr th:only-of-type {\n",
              "        vertical-align: middle;\n",
              "    }\n",
              "\n",
              "    .dataframe tbody tr th {\n",
              "        vertical-align: top;\n",
              "    }\n",
              "\n",
              "    .dataframe thead th {\n",
              "        text-align: right;\n",
              "    }\n",
              "</style>\n",
              "<table border=\"1\" class=\"dataframe\">\n",
              "  <thead>\n",
              "    <tr style=\"text-align: right;\">\n",
              "      <th></th>\n",
              "      <th>0</th>\n",
              "    </tr>\n",
              "  </thead>\n",
              "  <tbody>\n",
              "    <tr>\n",
              "      <th>mpg</th>\n",
              "      <td>0</td>\n",
              "    </tr>\n",
              "    <tr>\n",
              "      <th>cylinders</th>\n",
              "      <td>0</td>\n",
              "    </tr>\n",
              "    <tr>\n",
              "      <th>displacement</th>\n",
              "      <td>0</td>\n",
              "    </tr>\n",
              "    <tr>\n",
              "      <th>horsepower</th>\n",
              "      <td>6</td>\n",
              "    </tr>\n",
              "    <tr>\n",
              "      <th>weight</th>\n",
              "      <td>0</td>\n",
              "    </tr>\n",
              "    <tr>\n",
              "      <th>acceleration</th>\n",
              "      <td>0</td>\n",
              "    </tr>\n",
              "    <tr>\n",
              "      <th>model year</th>\n",
              "      <td>0</td>\n",
              "    </tr>\n",
              "    <tr>\n",
              "      <th>origin</th>\n",
              "      <td>0</td>\n",
              "    </tr>\n",
              "    <tr>\n",
              "      <th>car name</th>\n",
              "      <td>0</td>\n",
              "    </tr>\n",
              "  </tbody>\n",
              "</table>\n",
              "</div><br><label><b>dtype:</b> int64</label>"
            ]
          },
          "metadata": {},
          "execution_count": 73
        }
      ],
      "source": [
        "\n",
        "\n",
        "\n",
        "df.isna().sum()"
      ]
    },
    {
      "cell_type": "markdown",
      "id": "9be4d6e4",
      "metadata": {
        "id": "9be4d6e4"
      },
      "source": [
        "#### Number of cars with name Toyota"
      ]
    },
    {
      "cell_type": "code",
      "execution_count": 74,
      "id": "3d855e3f",
      "metadata": {
        "colab": {
          "base_uri": "https://localhost:8080/"
        },
        "id": "3d855e3f",
        "outputId": "eaeb4d56-ecf8-45e5-8da8-58c3bb14d481"
      },
      "outputs": [
        {
          "output_type": "stream",
          "name": "stdout",
          "text": [
            "+----+---------+------------+----------+------+------------+----------+------+--------------------+\n",
            "| mpg|cylinders|displacement|horsepower|weight|acceleration|model_year|origin|            car_name|\n",
            "+----+---------+------------+----------+------+------------+----------+------+--------------------+\n",
            "|24.0|        4|       113.0|      95.0|  2372|        15.0|        70|     3|toyota corona mar...|\n",
            "|25.0|        4|       113.0|      95.0|  2228|        14.0|        71|     3|       toyota corona|\n",
            "|31.0|        4|        71.0|      65.0|  1773|        19.0|        71|     3| toyota corolla 1200|\n",
            "|24.0|        4|       113.0|      95.0|  2278|        15.5|        72|     3|toyota corona har...|\n",
            "|27.0|        4|        97.0|      88.0|  2100|        16.5|        72|     3|toyota corolla 16...|\n",
            "|20.0|        4|        97.0|      88.0|  2279|        19.0|        73|     3|       toyota carina|\n",
            "|20.0|        6|       156.0|     122.0|  2807|        13.5|        73|     3|      toyota mark ii|\n",
            "|32.0|        4|        71.0|      65.0|  1836|        21.0|        74|     3| toyota corolla 1200|\n",
            "|31.0|        4|        76.0|      52.0|  1649|        16.5|        74|     3|       toyota corona|\n",
            "|29.0|        4|        97.0|      75.0|  2171|        16.0|        75|     3|      toyota corolla|\n",
            "|24.0|        4|       134.0|      96.0|  2702|        13.5|        75|     3|       toyota corona|\n",
            "|28.0|        4|        97.0|      75.0|  2155|        16.4|        76|     3|      toyota corolla|\n",
            "|19.0|        6|       156.0|     108.0|  2930|        15.5|        76|     3|      toyota mark ii|\n",
            "|26.0|        4|        97.0|      75.0|  2265|        18.2|        77|     3|toyota corolla li...|\n",
            "|27.5|        4|       134.0|      95.0|  2560|        14.2|        78|     3|       toyota corona|\n",
            "|21.1|        4|       134.0|      95.0|  2515|        14.8|        78|     3|toyota celica gt ...|\n",
            "|38.1|        4|        89.0|      60.0|  1968|        18.8|        80|     3|toyota corolla te...|\n",
            "|29.8|        4|       134.0|      90.0|  2711|        15.5|        80|     3|toyota corona lif...|\n",
            "|32.2|        4|       108.0|      75.0|  2265|        15.2|        80|     3|      toyota corolla|\n",
            "|39.1|        4|        79.0|      58.0|  1755|        16.9|        81|     3|      toyota starlet|\n",
            "+----+---------+------------+----------+------+------------+----------+------+--------------------+\n",
            "only showing top 20 rows\n",
            "\n"
          ]
        }
      ],
      "source": [
        "auto_mpg.filter(col('car_name').like('%toyota%')).show()"
      ]
    },
    {
      "cell_type": "code",
      "execution_count": 76,
      "id": "2a8d8e37",
      "metadata": {
        "colab": {
          "base_uri": "https://localhost:8080/"
        },
        "id": "2a8d8e37",
        "outputId": "f50e182c-f7b8-40cb-8d14-275880afdf0e"
      },
      "outputs": [
        {
          "output_type": "execute_result",
          "data": {
            "text/plain": [
              "25"
            ]
          },
          "metadata": {},
          "execution_count": 76
        }
      ],
      "source": [
        "auto_mpg.filter(col('car_name').like('%toyota%')).count()"
      ]
    },
    {
      "cell_type": "markdown",
      "id": "89d66f57",
      "metadata": {
        "id": "89d66f57"
      },
      "source": [
        "#### making the car name in title form"
      ]
    },
    {
      "cell_type": "code",
      "execution_count": 77,
      "id": "a94d9250",
      "metadata": {
        "id": "a94d9250"
      },
      "outputs": [],
      "source": [
        "import pyspark.sql.functions as F"
      ]
    },
    {
      "cell_type": "code",
      "execution_count": 78,
      "id": "e4047fc9",
      "metadata": {
        "colab": {
          "base_uri": "https://localhost:8080/"
        },
        "id": "e4047fc9",
        "outputId": "49132bf6-0c7e-4bdf-a71b-94401983a5a3"
      },
      "outputs": [
        {
          "output_type": "stream",
          "name": "stdout",
          "text": [
            "+--------------------+\n",
            "|   initcap(car_name)|\n",
            "+--------------------+\n",
            "|Chevrolet Chevell...|\n",
            "|   Buick Skylark 320|\n",
            "|  Plymouth Satellite|\n",
            "|       Amc Rebel Sst|\n",
            "|         Ford Torino|\n",
            "|    Ford Galaxie 500|\n",
            "|    Chevrolet Impala|\n",
            "|   Plymouth Fury Iii|\n",
            "|    Pontiac Catalina|\n",
            "|  Amc Ambassador Dpl|\n",
            "| Dodge Challenger Se|\n",
            "|  Plymouth 'cuda 340|\n",
            "|Chevrolet Monte C...|\n",
            "|Buick Estate Wago...|\n",
            "|Toyota Corona Mar...|\n",
            "|     Plymouth Duster|\n",
            "|          Amc Hornet|\n",
            "|       Ford Maverick|\n",
            "|        Datsun Pl510|\n",
            "|Volkswagen 1131 D...|\n",
            "+--------------------+\n",
            "only showing top 20 rows\n",
            "\n"
          ]
        }
      ],
      "source": [
        "\n",
        "spark.sql('select initcap(car_name) from auto_tables').show()"
      ]
    },
    {
      "cell_type": "code",
      "execution_count": 79,
      "id": "dc168c5e",
      "metadata": {
        "colab": {
          "base_uri": "https://localhost:8080/"
        },
        "id": "dc168c5e",
        "outputId": "4687de47-ecfc-4382-8b60-1650198a108e"
      },
      "outputs": [
        {
          "output_type": "stream",
          "name": "stdout",
          "text": [
            "+----+---------+------------+----------+------+------------+----------+------+--------------------+\n",
            "| mpg|cylinders|displacement|horsepower|weight|acceleration|model_year|origin|            car_name|\n",
            "+----+---------+------------+----------+------+------------+----------+------+--------------------+\n",
            "|36.0|        4|       105.0|      74.0|  1980|        15.3|        82|     2| volkswagen rabbit l|\n",
            "|33.0|        4|       105.0|      74.0|  2190|        14.2|        81|     2|    volkswagen jetta|\n",
            "|31.5|        4|        89.0|      71.0|  1990|        14.9|        78|     2| volkswagen scirocco|\n",
            "|43.1|        4|        90.0|      48.0|  1985|        21.5|        78|     2|volkswagen rabbit...|\n",
            "|29.0|        4|        97.0|      78.0|  1940|        14.5|        77|     2|volkswagen rabbit...|\n",
            "+----+---------+------------+----------+------+------------+----------+------+--------------------+\n",
            "only showing top 5 rows\n",
            "\n"
          ]
        }
      ],
      "source": [
        "\n",
        "\n",
        "auto_mpg.filter(auto_mpg['car_name'].contains('volkswagen')). \\\n",
        "orderBy(['model_year', 'horsepower'], ascending=[False, False]).show(5)"
      ]
    },
    {
      "cell_type": "markdown",
      "id": "947eece9",
      "metadata": {
        "id": "947eece9"
      },
      "source": [
        "#### Filtering on Mpg and Acceleration"
      ]
    },
    {
      "cell_type": "code",
      "execution_count": 80,
      "id": "d21b0568",
      "metadata": {
        "colab": {
          "base_uri": "https://localhost:8080/"
        },
        "id": "d21b0568",
        "outputId": "48948ee4-95b6-4354-f4f8-a765c40efdc3"
      },
      "outputs": [
        {
          "output_type": "stream",
          "name": "stdout",
          "text": [
            "+----+---------+------------+----------+------+------------+----------+------+-------------+\n",
            "| mpg|cylinders|displacement|horsepower|weight|acceleration|model_year|origin|     car_name|\n",
            "+----+---------+------------+----------+------+------------+----------+------+-------------+\n",
            "|27.0|        4|        97.0|      88.0|  2130|        14.5|        70|     3| datsun pl510|\n",
            "|24.0|        4|       107.0|      90.0|  2430|        14.5|        70|     2|  audi 100 ls|\n",
            "|26.0|        4|       121.0|     113.0|  2234|        12.5|        70|     2|     bmw 2002|\n",
            "|27.0|        4|        97.0|      88.0|  2130|        14.5|        71|     3| datsun pl510|\n",
            "|25.0|        4|       113.0|      95.0|  2228|        14.0|        71|     3|toyota corona|\n",
            "+----+---------+------------+----------+------+------------+----------+------+-------------+\n",
            "only showing top 5 rows\n",
            "\n"
          ]
        }
      ],
      "source": [
        "\n",
        "\n",
        "\n",
        "auto_mpg.filter('mpg > 22 and acceleration < 15').show(5)"
      ]
    },
    {
      "cell_type": "markdown",
      "id": "06fb6d60",
      "metadata": {
        "id": "06fb6d60"
      },
      "source": [
        "#### Filtering on ~ Null HP"
      ]
    },
    {
      "cell_type": "code",
      "execution_count": 81,
      "id": "8d3d1c69",
      "metadata": {
        "colab": {
          "base_uri": "https://localhost:8080/"
        },
        "id": "8d3d1c69",
        "outputId": "5301c787-6a0f-4d27-c930-95933bf8faec"
      },
      "outputs": [
        {
          "output_type": "stream",
          "name": "stdout",
          "text": [
            "+----+---------+------------+----------+------+------------+----------+------+--------------------+\n",
            "| mpg|cylinders|displacement|horsepower|weight|acceleration|model_year|origin|            car_name|\n",
            "+----+---------+------------+----------+------+------------+----------+------+--------------------+\n",
            "|18.0|        8|       307.0|     130.0|  3504|        12.0|        70|     1|chevrolet chevell...|\n",
            "|15.0|        8|       350.0|     165.0|  3693|        11.5|        70|     1|   buick skylark 320|\n",
            "|18.0|        8|       318.0|     150.0|  3436|        11.0|        70|     1|  plymouth satellite|\n",
            "|16.0|        8|       304.0|     150.0|  3433|        12.0|        70|     1|       amc rebel sst|\n",
            "|17.0|        8|       302.0|     140.0|  3449|        10.5|        70|     1|         ford torino|\n",
            "+----+---------+------------+----------+------+------------+----------+------+--------------------+\n",
            "only showing top 5 rows\n",
            "\n"
          ]
        }
      ],
      "source": [
        "\n",
        "auto_mpg.filter(~ auto_mpg.horsepower.isNull()).show(5)"
      ]
    },
    {
      "cell_type": "code",
      "execution_count": 82,
      "id": "be183c34",
      "metadata": {
        "colab": {
          "base_uri": "https://localhost:8080/"
        },
        "id": "be183c34",
        "outputId": "01555c19-2e1c-4141-c54c-00a900b2f6b9"
      },
      "outputs": [
        {
          "output_type": "execute_result",
          "data": {
            "text/plain": [
              "392"
            ]
          },
          "metadata": {},
          "execution_count": 82
        }
      ],
      "source": [
        "\n",
        "auto_mpg.filter(~ auto_mpg.horsepower.isNull()).count()"
      ]
    },
    {
      "cell_type": "code",
      "execution_count": 84,
      "id": "170e7d33",
      "metadata": {
        "colab": {
          "base_uri": "https://localhost:8080/"
        },
        "id": "170e7d33",
        "outputId": "54bf3fe1-0fc9-4b4a-b252-dc79591d2a0c"
      },
      "outputs": [
        {
          "output_type": "execute_result",
          "data": {
            "text/plain": [
              "398"
            ]
          },
          "metadata": {},
          "execution_count": 84
        }
      ],
      "source": [
        "auto_mpg.count()"
      ]
    },
    {
      "cell_type": "markdown",
      "id": "f363ce21",
      "metadata": {
        "id": "f363ce21"
      },
      "source": [
        "\n",
        "#### Number of Null values in HP"
      ]
    },
    {
      "cell_type": "code",
      "execution_count": 83,
      "id": "529a289b",
      "metadata": {
        "colab": {
          "base_uri": "https://localhost:8080/"
        },
        "id": "529a289b",
        "outputId": "4424ecb8-ed00-461b-ebda-bb3297ebda8d"
      },
      "outputs": [
        {
          "output_type": "stream",
          "name": "stdout",
          "text": [
            "there are total 6 nulls in HorsePower\n"
          ]
        }
      ],
      "source": [
        "total_null= auto_mpg.count()- auto_mpg.filter(~ auto_mpg.horsepower.isNull()).count()\n",
        "print('there are total {} nulls in HorsePower'.format(total_null))"
      ]
    },
    {
      "cell_type": "markdown",
      "id": "90ca52ab",
      "metadata": {
        "id": "90ca52ab"
      },
      "source": [
        "#### Filtering by when and otherwise condition and using alias to name a column"
      ]
    },
    {
      "cell_type": "code",
      "execution_count": 85,
      "id": "0ae3f2d1",
      "metadata": {
        "colab": {
          "base_uri": "https://localhost:8080/"
        },
        "id": "0ae3f2d1",
        "outputId": "d0ac8670-2c2a-4440-ac9c-40f84a129b67"
      },
      "outputs": [
        {
          "output_type": "stream",
          "name": "stdout",
          "text": [
            "+--------------------+----------+-----------------+\n",
            "|            car_name|model_year|Totoya Car or Not|\n",
            "+--------------------+----------+-----------------+\n",
            "|chevrolet chevell...|        70|               No|\n",
            "|   buick skylark 320|        70|               No|\n",
            "|  plymouth satellite|        70|               No|\n",
            "|       amc rebel sst|        70|               No|\n",
            "|         ford torino|        70|               No|\n",
            "|    ford galaxie 500|        70|               No|\n",
            "|    chevrolet impala|        70|               No|\n",
            "|   plymouth fury iii|        70|               No|\n",
            "|    pontiac catalina|        70|               No|\n",
            "|  amc ambassador dpl|        70|               No|\n",
            "| dodge challenger se|        70|               No|\n",
            "|  plymouth 'cuda 340|        70|               No|\n",
            "|chevrolet monte c...|        70|               No|\n",
            "|buick estate wago...|        70|               No|\n",
            "|toyota corona mar...|        70|              Yes|\n",
            "|     plymouth duster|        70|               No|\n",
            "|          amc hornet|        70|               No|\n",
            "|       ford maverick|        70|               No|\n",
            "|        datsun pl510|        70|               No|\n",
            "|volkswagen 1131 d...|        70|               No|\n",
            "+--------------------+----------+-----------------+\n",
            "only showing top 20 rows\n",
            "\n"
          ]
        }
      ],
      "source": [
        "auto_mpg.select(auto_mpg.car_name, auto_mpg.model_year, F.when(auto_mpg.car_name.like('%toyota%'), 'Yes').otherwise('No').alias('Totoya Car or Not')).show()"
      ]
    },
    {
      "cell_type": "code",
      "execution_count": 86,
      "id": "a7ccc7d2",
      "metadata": {
        "colab": {
          "base_uri": "https://localhost:8080/"
        },
        "id": "a7ccc7d2",
        "outputId": "99b52fda-047f-4da7-fd0c-0490cd85d585"
      },
      "outputs": [
        {
          "output_type": "stream",
          "name": "stdout",
          "text": [
            "+--------------------+----------+-----------+\n",
            "|            car_name|model_year|performance|\n",
            "+--------------------+----------+-----------+\n",
            "|chevrolet chevell...|        70|       Fair|\n",
            "|   buick skylark 320|        70|       Good|\n",
            "|  plymouth satellite|        70|       Good|\n",
            "|       amc rebel sst|        70|       Good|\n",
            "|         ford torino|        70|       Good|\n",
            "|    ford galaxie 500|        70|       Good|\n",
            "|    chevrolet impala|        70|       Good|\n",
            "|   plymouth fury iii|        70|       Good|\n",
            "|    pontiac catalina|        70|       Good|\n",
            "|  amc ambassador dpl|        70|       Good|\n",
            "| dodge challenger se|        70|       Good|\n",
            "|  plymouth 'cuda 340|        70|       Good|\n",
            "|chevrolet monte c...|        70|       Good|\n",
            "|buick estate wago...|        70|       Good|\n",
            "|toyota corona mar...|        70|       Fair|\n",
            "|     plymouth duster|        70|       Fair|\n",
            "|          amc hornet|        70|       Fair|\n",
            "|       ford maverick|        70|       Fair|\n",
            "|        datsun pl510|        70|       Fair|\n",
            "|volkswagen 1131 d...|        70|        Bad|\n",
            "+--------------------+----------+-----------+\n",
            "only showing top 20 rows\n",
            "\n"
          ]
        }
      ],
      "source": [
        "auto_mpg.select(auto_mpg.car_name, auto_mpg.model_year, F.when(auto_mpg.horsepower >= 140, \"Good\")\n",
        ".when(auto_mpg.horsepower <50, \"Bad\").otherwise('Fair').alias('performance')).show()"
      ]
    },
    {
      "cell_type": "markdown",
      "id": "3007fd80",
      "metadata": {
        "id": "3007fd80"
      },
      "source": [
        "#### Number of cars with good, bad and fair performance"
      ]
    },
    {
      "cell_type": "code",
      "execution_count": 87,
      "id": "df394ca5",
      "metadata": {
        "colab": {
          "base_uri": "https://localhost:8080/"
        },
        "id": "df394ca5",
        "outputId": "c920e31d-6ef4-4289-9ac5-c13f874b8fa2"
      },
      "outputs": [
        {
          "output_type": "stream",
          "name": "stdout",
          "text": [
            "+-----------+-----+\n",
            "|performance|count|\n",
            "+-----------+-----+\n",
            "|       Fair|  308|\n",
            "|       Good|   84|\n",
            "|        Bad|    6|\n",
            "+-----------+-----+\n",
            "\n"
          ]
        }
      ],
      "source": [
        "auto_mpg.select(auto_mpg.car_name, auto_mpg.model_year, F.when(auto_mpg.horsepower >= 140, \"Good\")\n",
        ".when(auto_mpg.horsepower < 50, \"Bad\").otherwise('Fair').alias('performance')).groupBy('performance').count().show()"
      ]
    },
    {
      "cell_type": "markdown",
      "id": "dfa7183a",
      "metadata": {
        "id": "dfa7183a"
      },
      "source": [
        "#### Improving performance by caching"
      ]
    },
    {
      "cell_type": "code",
      "execution_count": 88,
      "id": "9b39da48",
      "metadata": {
        "id": "9b39da48"
      },
      "outputs": [],
      "source": [
        "import time"
      ]
    },
    {
      "cell_type": "code",
      "execution_count": 89,
      "id": "4ea97582",
      "metadata": {
        "colab": {
          "base_uri": "https://localhost:8080/"
        },
        "id": "4ea97582",
        "outputId": "dcf96ebb-b5f9-456e-8de9-6a1a9052aa82"
      },
      "outputs": [
        {
          "output_type": "stream",
          "name": "stdout",
          "text": [
            "+-------+------------------+------------------+------------------+------------------+-----------------+------------------+------------------+------------------+--------------------+\n",
            "|summary|               mpg|         cylinders|      displacement|        horsepower|           weight|      acceleration|        model_year|            origin|            car_name|\n",
            "+-------+------------------+------------------+------------------+------------------+-----------------+------------------+------------------+------------------+--------------------+\n",
            "|  count|               398|               398|               398|               392|              398|               398|               398|               398|                 398|\n",
            "|   mean|23.514572864321615| 5.454773869346734|193.42587939698493|104.46938775510205|2970.424623115578|15.568090452261291| 76.01005025125629|1.5728643216080402|                NULL|\n",
            "| stddev| 7.815984312565783|1.7010042445332123|104.26983817119587| 38.49115993282846|846.8417741973268| 2.757688929812676|3.6976266467325862|0.8020548777266148|                NULL|\n",
            "|    min|               9.0|                 3|              68.0|              46.0|             1613|               8.0|                70|                 1|amc ambassador br...|\n",
            "|    max|              46.6|                 8|             455.0|             230.0|             5140|              24.8|                82|                 3|    vw rabbit custom|\n",
            "+-------+------------------+------------------+------------------+------------------+-----------------+------------------+------------------+------------------+--------------------+\n",
            "\n",
            "time taken is:  None 1.5918374061584473\n"
          ]
        }
      ],
      "source": [
        "start= time.time()\n",
        "cachedresults= auto_mpg.describe().cache() # caching the results before Action\n",
        "print(\"time taken is: \", cachedresults.show(),time.time()- start)"
      ]
    },
    {
      "cell_type": "code",
      "execution_count": 90,
      "id": "f15acf7c",
      "metadata": {
        "colab": {
          "base_uri": "https://localhost:8080/"
        },
        "id": "f15acf7c",
        "outputId": "05b8b207-d42b-49fd-9cab-edbd8d83fd73"
      },
      "outputs": [
        {
          "output_type": "stream",
          "name": "stdout",
          "text": [
            "+-------+------------------+------------------+------------------+------------------+-----------------+------------------+------------------+------------------+--------------------+\n",
            "|summary|               mpg|         cylinders|      displacement|        horsepower|           weight|      acceleration|        model_year|            origin|            car_name|\n",
            "+-------+------------------+------------------+------------------+------------------+-----------------+------------------+------------------+------------------+--------------------+\n",
            "|  count|               398|               398|               398|               392|              398|               398|               398|               398|                 398|\n",
            "|   mean|23.514572864321615| 5.454773869346734|193.42587939698493|104.46938775510205|2970.424623115578|15.568090452261291| 76.01005025125629|1.5728643216080402|                NULL|\n",
            "| stddev| 7.815984312565783|1.7010042445332123|104.26983817119587| 38.49115993282846|846.8417741973268| 2.757688929812676|3.6976266467325862|0.8020548777266148|                NULL|\n",
            "|    min|               9.0|                 3|              68.0|              46.0|             1613|               8.0|                70|                 1|amc ambassador br...|\n",
            "|    max|              46.6|                 8|             455.0|             230.0|             5140|              24.8|                82|                 3|    vw rabbit custom|\n",
            "+-------+------------------+------------------+------------------+------------------+-----------------+------------------+------------------+------------------+--------------------+\n",
            "\n",
            "time taken is:  None 0.16010832786560059\n"
          ]
        }
      ],
      "source": [
        "start= time.time()\n",
        "print(\"time taken is: \",cachedresults.show(), time.time()- start)"
      ]
    },
    {
      "cell_type": "code",
      "execution_count": null,
      "id": "fa68a585",
      "metadata": {
        "id": "fa68a585"
      },
      "outputs": [],
      "source": [
        "### Hence time decreased"
      ]
    },
    {
      "cell_type": "code",
      "execution_count": null,
      "id": "d796d52a",
      "metadata": {
        "id": "d796d52a"
      },
      "outputs": [],
      "source": [
        "# Results can be uncached by using unpersist()"
      ]
    },
    {
      "cell_type": "code",
      "execution_count": 91,
      "id": "e8866bab",
      "metadata": {
        "colab": {
          "base_uri": "https://localhost:8080/"
        },
        "id": "e8866bab",
        "outputId": "7a98f805-37b7-47f3-8031-f3f7077aa73f"
      },
      "outputs": [
        {
          "output_type": "execute_result",
          "data": {
            "text/plain": [
              "DataFrame[summary: string, mpg: string, cylinders: string, displacement: string, horsepower: string, weight: string, acceleration: string, model_year: string, origin: string, car_name: string]"
            ]
          },
          "metadata": {},
          "execution_count": 91
        }
      ],
      "source": [
        "cachedresults.unpersist()"
      ]
    },
    {
      "cell_type": "code",
      "execution_count": 92,
      "id": "22fb0798",
      "metadata": {
        "colab": {
          "base_uri": "https://localhost:8080/"
        },
        "id": "22fb0798",
        "outputId": "fc3d5f32-e18b-48e7-d56d-2c6362c41d43"
      },
      "outputs": [
        {
          "output_type": "execute_result",
          "data": {
            "text/plain": [
              "False"
            ]
          },
          "metadata": {},
          "execution_count": 92
        }
      ],
      "source": [
        "cachedresults.is_cached ## checking whether it is cached or not"
      ]
    },
    {
      "cell_type": "markdown",
      "id": "2f7d9cfe",
      "metadata": {
        "id": "2f7d9cfe"
      },
      "source": [
        "#### Replacing Misspelled Brands"
      ]
    },
    {
      "cell_type": "code",
      "execution_count": 93,
      "id": "aa74e211",
      "metadata": {
        "colab": {
          "base_uri": "https://localhost:8080/"
        },
        "id": "aa74e211",
        "outputId": "9743b6b9-97f8-471c-d69f-1885ca5e4983"
      },
      "outputs": [
        {
          "output_type": "stream",
          "name": "stdout",
          "text": [
            "+----+---------+------------+----------+------+------------+----------+------+---------+\n",
            "| mpg|cylinders|displacement|horsepower|weight|acceleration|model_year|origin|    brand|\n",
            "+----+---------+------------+----------+------+------------+----------+------+---------+\n",
            "|18.0|        8|       307.0|     130.0|  3504|        12.0|        70|     1|chevrolet|\n",
            "|15.0|        8|       350.0|     165.0|  3693|        11.5|        70|     1|    buick|\n",
            "|18.0|        8|       318.0|     150.0|  3436|        11.0|        70|     1| plymouth|\n",
            "|16.0|        8|       304.0|     150.0|  3433|        12.0|        70|     1|      amc|\n",
            "|17.0|        8|       302.0|     140.0|  3449|        10.5|        70|     1|     ford|\n",
            "+----+---------+------------+----------+------+------------+----------+------+---------+\n",
            "only showing top 5 rows\n",
            "\n"
          ]
        }
      ],
      "source": [
        "auto_mpg = auto_mpg.withColumn('brand', split(auto_mpg['car_name'], ' ').getItem(0)).drop('car_name')\n",
        "\n",
        "\n",
        "auto_misspelled = {'chevroelt': 'chevrolet',\n",
        "                   'chevy': 'chevrolet',\n",
        "                   'vokswagen': 'volkswagen',\n",
        "                   'vw': 'volkswagen',\n",
        "                   'hi': 'harvester',\n",
        "                   'maxda': 'mazda',\n",
        "                   'toyouta': 'toyota',\n",
        "                   'mercedes-benz': 'mercedes'}\n",
        "\n",
        "for key in auto_misspelled.keys():\n",
        "\n",
        "    auto_mpg = auto_mpg.withColumn('brand', regexp_replace('brand', key, auto_misspelled[key]))\n",
        "\n",
        "auto_mpg.show(5)"
      ]
    },
    {
      "cell_type": "markdown",
      "id": "29259521",
      "metadata": {
        "id": "29259521"
      },
      "source": [
        "#### Avg Acceleration and Horsepower by car brands"
      ]
    },
    {
      "cell_type": "code",
      "execution_count": 94,
      "id": "c7118c81",
      "metadata": {
        "colab": {
          "base_uri": "https://localhost:8080/"
        },
        "id": "c7118c81",
        "outputId": "fe607ef6-54e3-4753-f7af-88d6038139e8"
      },
      "outputs": [
        {
          "output_type": "stream",
          "name": "stdout",
          "text": [
            "+--------+------------------+------------------+\n",
            "|   brand| avg(acceleration)|   avg(horsepower)|\n",
            "+--------+------------------+------------------+\n",
            "|    ford|15.378431372549018|112.22916666666667|\n",
            "|   capri|              14.9|              92.0|\n",
            "| mercury|14.963636363636363|119.81818181818181|\n",
            "|plymouth|14.851612903225801|111.41935483870968|\n",
            "|   dodge|14.460714285714284|117.17857142857143|\n",
            "+--------+------------------+------------------+\n",
            "only showing top 5 rows\n",
            "\n"
          ]
        }
      ],
      "source": [
        "auto_mpg.groupBy('brand').agg({'acceleration': 'mean', 'horsepower': 'mean'}).show(5)"
      ]
    },
    {
      "cell_type": "markdown",
      "id": "d9fa229e",
      "metadata": {
        "id": "d9fa229e"
      },
      "source": [
        "#### Max MPG by car brands"
      ]
    },
    {
      "cell_type": "code",
      "execution_count": 95,
      "id": "021cc14f",
      "metadata": {
        "colab": {
          "base_uri": "https://localhost:8080/"
        },
        "id": "021cc14f",
        "outputId": "ffac8582-ad45-48dc-c012-5de00806d40b"
      },
      "outputs": [
        {
          "output_type": "stream",
          "name": "stdout",
          "text": [
            "+--------+--------+\n",
            "|   brand|max(mpg)|\n",
            "+--------+--------+\n",
            "|    ford|    36.1|\n",
            "|   capri|    25.0|\n",
            "| mercury|    36.0|\n",
            "|plymouth|    39.0|\n",
            "|   dodge|    36.0|\n",
            "+--------+--------+\n",
            "only showing top 5 rows\n",
            "\n"
          ]
        }
      ],
      "source": [
        "\n",
        "auto_mpg.groupBy('brand').max('mpg').show(5)"
      ]
    },
    {
      "cell_type": "code",
      "execution_count": 96,
      "id": "fe31b76b",
      "metadata": {
        "id": "fe31b76b"
      },
      "outputs": [],
      "source": [
        "#End Session\n",
        "spark.stop()"
      ]
    },
    {
      "cell_type": "code",
      "execution_count": null,
      "id": "8cbb6836",
      "metadata": {
        "id": "8cbb6836"
      },
      "outputs": [],
      "source": []
    }
  ],
  "metadata": {
    "kernelspec": {
      "display_name": "Python 3 (ipykernel)",
      "language": "python",
      "name": "python3"
    },
    "language_info": {
      "codemirror_mode": {
        "name": "ipython",
        "version": 3
      },
      "file_extension": ".py",
      "mimetype": "text/x-python",
      "name": "python",
      "nbconvert_exporter": "python",
      "pygments_lexer": "ipython3",
      "version": "3.9.7"
    },
    "colab": {
      "provenance": []
    }
  },
  "nbformat": 4,
  "nbformat_minor": 5
}